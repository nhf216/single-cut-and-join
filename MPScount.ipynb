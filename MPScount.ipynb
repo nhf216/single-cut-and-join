{
 "cells": [
  {
   "cell_type": "code",
   "execution_count": 1,
   "id": "9458ec58-dc64-4401-bd88-73715166a4fc",
   "metadata": {},
   "outputs": [],
   "source": [
    "import MPScount"
   ]
  },
  {
   "cell_type": "code",
   "execution_count": 109,
   "id": "7ccb67e9-2155-448f-ab9a-829dd523c9c3",
   "metadata": {},
   "outputs": [
    {
     "data": {
      "text/plain": [
       "<module 'MPScount' from '/home/nfox/Documents/Work and School/Research/Cut and Join/MPScount.py'>"
      ]
     },
     "execution_count": 109,
     "metadata": {},
     "output_type": "execute_result"
    }
   ],
   "source": [
    "import importlib\n",
    "importlib.reload(MPScount)"
   ]
  },
  {
   "cell_type": "code",
   "execution_count": 91,
   "id": "50a9bc86-e176-45e7-a09a-7652baa38997",
   "metadata": {},
   "outputs": [
    {
     "data": {
      "text/plain": [
       "1"
      ]
     },
     "execution_count": 91,
     "metadata": {},
     "output_type": "execute_result"
    }
   ],
   "source": [
    "#Test: Just an N\n",
    "g = MPScount.AdjacencyGraphInfo()\n",
    "n = 4\n",
    "g.addN(n)\n",
    "MPScount.countMPS(g)"
   ]
  },
  {
   "cell_type": "code",
   "execution_count": 92,
   "id": "f4e3b579-105a-49ab-be67-450850bb80e1",
   "metadata": {},
   "outputs": [
    {
     "data": {
      "text/plain": [
       "8"
      ]
     },
     "execution_count": 92,
     "metadata": {},
     "output_type": "execute_result"
    }
   ],
   "source": [
    "#Test: Just an M\n",
    "g = MPScount.AdjacencyGraphInfo()\n",
    "n = 4 #/\\/\\/\\\n",
    "g.addM(n)\n",
    "MPScount.countMPS(g)"
   ]
  },
  {
   "cell_type": "code",
   "execution_count": 93,
   "id": "1093edd6-3994-46b7-911b-535089b97195",
   "metadata": {},
   "outputs": [
    {
     "data": {
      "text/plain": [
       "8"
      ]
     },
     "execution_count": 93,
     "metadata": {},
     "output_type": "execute_result"
    }
   ],
   "source": [
    "#Test: Just a W\n",
    "g = MPScount.AdjacencyGraphInfo()\n",
    "n = 4\n",
    "g.addW(n)\n",
    "MPScount.countMPS(g)"
   ]
  },
  {
   "cell_type": "code",
   "execution_count": 94,
   "id": "6f649dda-8a80-42f6-a4bc-ca378fa79a3b",
   "metadata": {},
   "outputs": [
    {
     "data": {
      "text/plain": [
       "80"
      ]
     },
     "execution_count": 94,
     "metadata": {},
     "output_type": "execute_result"
    }
   ],
   "source": [
    "#Test: Just a C\n",
    "g = MPScount.AdjacencyGraphInfo()\n",
    "n = 5\n",
    "g.addC(n)\n",
    "MPScount.countMPS(g)"
   ]
  },
  {
   "cell_type": "code",
   "execution_count": 95,
   "id": "7f36c74b-a7a6-45a6-80ce-613d734462ed",
   "metadata": {},
   "outputs": [
    {
     "data": {
      "text/plain": [
       "20480"
      ]
     },
     "execution_count": 95,
     "metadata": {},
     "output_type": "execute_result"
    }
   ],
   "source": [
    "#Test: A C and a W\n",
    "g = MPScount.AdjacencyGraphInfo()\n",
    "nc = 5\n",
    "nw = 7\n",
    "g.addC(nc)\n",
    "g.addW(nw)\n",
    "MPScount.countMPS(g, True)"
   ]
  },
  {
   "cell_type": "code",
   "execution_count": 96,
   "id": "9d243fb6-7bc0-4964-a103-98e14a0f4284",
   "metadata": {},
   "outputs": [
    {
     "data": {
      "text/plain": [
       "5"
      ]
     },
     "execution_count": 96,
     "metadata": {},
     "output_type": "execute_result"
    }
   ],
   "source": [
    "#Test: A C and an N\n",
    "g = MPScount.AdjacencyGraphInfo()\n",
    "nc = 5\n",
    "nn = 7\n",
    "g.addC(nc)\n",
    "g.addN(nn)\n",
    "MPScount.countMPS(g, True)"
   ]
  },
  {
   "cell_type": "code",
   "execution_count": 116,
   "id": "53c94931-2941-4663-ac57-7121c27b9d24",
   "metadata": {},
   "outputs": [
    {
     "data": {
      "text/plain": [
       "180"
      ]
     },
     "execution_count": 116,
     "metadata": {},
     "output_type": "execute_result"
    }
   ],
   "source": [
    "#Test: An M and a W\n",
    "g = MPScount.AdjacencyGraphInfo()\n",
    "nm = 3\n",
    "nw = 2\n",
    "g.addM(nm)\n",
    "g.addW(nw)\n",
    "MPScount.countMPS(g)"
   ]
  },
  {
   "cell_type": "code",
   "execution_count": 99,
   "id": "fccb01e8-3212-49a7-aff3-dd1462d93ead",
   "metadata": {},
   "outputs": [
    {
     "data": {
      "text/plain": [
       "2522520"
      ]
     },
     "execution_count": 99,
     "metadata": {},
     "output_type": "execute_result"
    }
   ],
   "source": [
    "#Bigger example\n",
    "g = MPScount.AdjacencyGraphInfo()\n",
    "n_vals = [2, 3, 4, 5]\n",
    "for n in n_vals:\n",
    "    g.addN(n)\n",
    "MPScount.countMPS(g)"
   ]
  },
  {
   "cell_type": "code",
   "execution_count": 112,
   "id": "34788061-eb2b-490a-96c7-3b5e9ef310fe",
   "metadata": {},
   "outputs": [
    {
     "data": {
      "text/plain": [
       "19476"
      ]
     },
     "execution_count": 112,
     "metadata": {},
     "output_type": "execute_result"
    }
   ],
   "source": [
    "g = MPScount.AdjacencyGraphInfo()\n",
    "g.addW(4)\n",
    "g.addM(5)\n",
    "MPScount.countMPS(g)"
   ]
  }
 ],
 "metadata": {
  "kernelspec": {
   "display_name": "Python 3 (ipykernel)",
   "language": "python",
   "name": "python3"
  },
  "language_info": {
   "codemirror_mode": {
    "name": "ipython",
    "version": 3
   },
   "file_extension": ".py",
   "mimetype": "text/x-python",
   "name": "python",
   "nbconvert_exporter": "python",
   "pygments_lexer": "ipython3",
   "version": "3.9.5"
  }
 },
 "nbformat": 4,
 "nbformat_minor": 5
}
