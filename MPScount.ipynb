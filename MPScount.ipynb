{
 "cells": [
  {
   "cell_type": "code",
   "execution_count": 1,
   "id": "9458ec58-dc64-4401-bd88-73715166a4fc",
   "metadata": {},
   "outputs": [],
   "source": [
    "import MPScount\n",
    "import math\n",
    "import time"
   ]
  },
  {
   "cell_type": "code",
   "execution_count": 8,
   "id": "7ccb67e9-2155-448f-ab9a-829dd523c9c3",
   "metadata": {},
   "outputs": [
    {
     "data": {
      "text/plain": [
       "<module 'MPScount' from '/home/nfox/Documents/Work and School/Research/Cut and Join/single-cut-and-join/MPScount.py'>"
      ]
     },
     "execution_count": 8,
     "metadata": {},
     "output_type": "execute_result"
    }
   ],
   "source": [
    "import importlib\n",
    "importlib.reload(MPScount)"
   ]
  },
  {
   "cell_type": "code",
   "execution_count": 91,
   "id": "50a9bc86-e176-45e7-a09a-7652baa38997",
   "metadata": {},
   "outputs": [
    {
     "data": {
      "text/plain": [
       "1"
      ]
     },
     "execution_count": 91,
     "metadata": {},
     "output_type": "execute_result"
    }
   ],
   "source": [
    "#Test: Just an N\n",
    "g = MPScount.AdjacencyGraphInfo()\n",
    "n = 4\n",
    "g.addN(n)\n",
    "MPScount.countMPS(g)"
   ]
  },
  {
   "cell_type": "code",
   "execution_count": 92,
   "id": "f4e3b579-105a-49ab-be67-450850bb80e1",
   "metadata": {},
   "outputs": [
    {
     "data": {
      "text/plain": [
       "8"
      ]
     },
     "execution_count": 92,
     "metadata": {},
     "output_type": "execute_result"
    }
   ],
   "source": [
    "#Test: Just an M\n",
    "g = MPScount.AdjacencyGraphInfo()\n",
    "n = 4 #/\\/\\/\\\n",
    "g.addM(n)\n",
    "MPScount.countMPS(g)"
   ]
  },
  {
   "cell_type": "code",
   "execution_count": 93,
   "id": "1093edd6-3994-46b7-911b-535089b97195",
   "metadata": {},
   "outputs": [
    {
     "data": {
      "text/plain": [
       "8"
      ]
     },
     "execution_count": 93,
     "metadata": {},
     "output_type": "execute_result"
    }
   ],
   "source": [
    "#Test: Just a W\n",
    "g = MPScount.AdjacencyGraphInfo()\n",
    "n = 4\n",
    "g.addW(n)\n",
    "MPScount.countMPS(g)"
   ]
  },
  {
   "cell_type": "code",
   "execution_count": 12,
   "id": "6f649dda-8a80-42f6-a4bc-ca378fa79a3b",
   "metadata": {},
   "outputs": [
    {
     "data": {
      "text/plain": [
       "80"
      ]
     },
     "execution_count": 12,
     "metadata": {},
     "output_type": "execute_result"
    }
   ],
   "source": [
    "#Test: Just a C\n",
    "g = MPScount.AdjacencyGraphInfo()\n",
    "n = 5\n",
    "g.addC(n)\n",
    "MPScount.countMPS(g)"
   ]
  },
  {
   "cell_type": "code",
   "execution_count": 95,
   "id": "7f36c74b-a7a6-45a6-80ce-613d734462ed",
   "metadata": {},
   "outputs": [
    {
     "data": {
      "text/plain": [
       "20480"
      ]
     },
     "execution_count": 95,
     "metadata": {},
     "output_type": "execute_result"
    }
   ],
   "source": [
    "#Test: A C and a W\n",
    "g = MPScount.AdjacencyGraphInfo()\n",
    "nc = 5\n",
    "nw = 7\n",
    "g.addC(nc)\n",
    "g.addW(nw)\n",
    "MPScount.countMPS(g, True)"
   ]
  },
  {
   "cell_type": "code",
   "execution_count": 96,
   "id": "9d243fb6-7bc0-4964-a103-98e14a0f4284",
   "metadata": {},
   "outputs": [
    {
     "data": {
      "text/plain": [
       "5"
      ]
     },
     "execution_count": 96,
     "metadata": {},
     "output_type": "execute_result"
    }
   ],
   "source": [
    "#Test: A C and an N\n",
    "g = MPScount.AdjacencyGraphInfo()\n",
    "nc = 5\n",
    "nn = 7\n",
    "g.addC(nc)\n",
    "g.addN(nn)\n",
    "MPScount.countMPS(g, True)"
   ]
  },
  {
   "cell_type": "code",
   "execution_count": 116,
   "id": "53c94931-2941-4663-ac57-7121c27b9d24",
   "metadata": {},
   "outputs": [
    {
     "data": {
      "text/plain": [
       "180"
      ]
     },
     "execution_count": 116,
     "metadata": {},
     "output_type": "execute_result"
    }
   ],
   "source": [
    "#Test: An M and a W\n",
    "g = MPScount.AdjacencyGraphInfo()\n",
    "nm = 3\n",
    "nw = 2\n",
    "g.addM(nm)\n",
    "g.addW(nw)\n",
    "MPScount.countMPS(g)"
   ]
  },
  {
   "cell_type": "code",
   "execution_count": 99,
   "id": "fccb01e8-3212-49a7-aff3-dd1462d93ead",
   "metadata": {},
   "outputs": [
    {
     "data": {
      "text/plain": [
       "2522520"
      ]
     },
     "execution_count": 99,
     "metadata": {},
     "output_type": "execute_result"
    }
   ],
   "source": [
    "#Bigger example\n",
    "g = MPScount.AdjacencyGraphInfo()\n",
    "n_vals = [2, 3, 4, 5]\n",
    "for n in n_vals:\n",
    "    g.addN(n)\n",
    "MPScount.countMPS(g)"
   ]
  },
  {
   "cell_type": "code",
   "execution_count": 112,
   "id": "34788061-eb2b-490a-96c7-3b5e9ef310fe",
   "metadata": {},
   "outputs": [
    {
     "data": {
      "text/plain": [
       "19476"
      ]
     },
     "execution_count": 112,
     "metadata": {},
     "output_type": "execute_result"
    }
   ],
   "source": [
    "g = MPScount.AdjacencyGraphInfo()\n",
    "g.addW(4)\n",
    "g.addM(5)\n",
    "MPScount.countMPS(g)"
   ]
  },
  {
   "cell_type": "code",
   "execution_count": 32,
   "id": "45061f47-227b-48bc-bb8b-ffc9cdabac2c",
   "metadata": {},
   "outputs": [
    {
     "data": {
      "text/plain": [
       "35198235072000"
      ]
     },
     "execution_count": 32,
     "metadata": {},
     "output_type": "execute_result"
    }
   ],
   "source": [
    "g = MPScount.AdjacencyGraphInfo()\n",
    "g.addW(2)\n",
    "g.addM(3)\n",
    "g.addN(4)\n",
    "g.addN(3)\n",
    "g.addN(3)\n",
    "g.addN(5)\n",
    "MPScount.countMPS(g)"
   ]
  },
  {
   "cell_type": "code",
   "execution_count": 10,
   "id": "27290989-19b7-4235-acf1-5e4541be970a",
   "metadata": {},
   "outputs": [
    {
     "data": {
      "text/plain": [
       "672672000"
      ]
     },
     "execution_count": 10,
     "metadata": {},
     "output_type": "execute_result"
    }
   ],
   "source": [
    "math.factorial(15)//(6**5)*4"
   ]
  },
  {
   "cell_type": "code",
   "execution_count": 23,
   "id": "1307fee1-7955-4979-978b-29dd3e769944",
   "metadata": {},
   "outputs": [
    {
     "data": {
      "text/plain": [
       "True"
      ]
     },
     "execution_count": 23,
     "metadata": {},
     "output_type": "execute_result"
    }
   ],
   "source": [
    "h = MPScount.AdjacencyGraphInfo()\n",
    "h.addW(2)\n",
    "h.addM(2)\n",
    "h.addN(1)\n",
    "g == h"
   ]
  },
  {
   "cell_type": "code",
   "execution_count": 24,
   "id": "1274bdb6-40bf-4d0c-9556-44d7200e2227",
   "metadata": {},
   "outputs": [
    {
     "data": {
      "text/plain": [
       "N: {1: 1}\n",
       "W: {2: 1}\n",
       "M: {2: 1}\n",
       "C: {}"
      ]
     },
     "execution_count": 24,
     "metadata": {},
     "output_type": "execute_result"
    }
   ],
   "source": [
    "g"
   ]
  },
  {
   "cell_type": "code",
   "execution_count": 35,
   "id": "11292311-9c4b-4c4d-95dc-e5b01411fd7a",
   "metadata": {},
   "outputs": [],
   "source": [
    "def matchings(m, n = -1):\n",
    "    if n < m:\n",
    "        n = m\n",
    "    ret = 0\n",
    "    for k in range(m + 1):\n",
    "        ret += math.comb(m, k) * math.comb(n, k) * math.factorial(k)\n",
    "    return ret"
   ]
  },
  {
   "cell_type": "code",
   "execution_count": 36,
   "id": "5e9d9744-8d35-4785-81d4-a3e00a48ac40",
   "metadata": {},
   "outputs": [
    {
     "data": {
      "text/plain": [
       "[2, 7, 34, 209, 1546, 13327, 130922, 1441729, 17572114]"
      ]
     },
     "execution_count": 36,
     "metadata": {},
     "output_type": "execute_result"
    }
   ],
   "source": [
    "[matchings(n) for n in range(1, 10)]"
   ]
  },
  {
   "cell_type": "code",
   "execution_count": 38,
   "id": "6a9f2c84-eaff-496d-bf60-d101bfd7727d",
   "metadata": {},
   "outputs": [
    {
     "data": {
      "text/plain": [
       "[[1],\n",
       " [1, 2],\n",
       " [1, 3, 7],\n",
       " [1, 4, 13, 34],\n",
       " [1, 5, 21, 73, 209],\n",
       " [1, 6, 31, 136, 501, 1546],\n",
       " [1, 7, 43, 229, 1045, 4051, 13327],\n",
       " [1, 8, 57, 358, 1961, 9276, 37633, 130922],\n",
       " [1, 9, 73, 529, 3393, 19081, 93289, 394353, 1441729],\n",
       " [1, 10, 91, 748, 5509, 36046, 207775, 1047376, 4596553, 17572114]]"
      ]
     },
     "execution_count": 38,
     "metadata": {},
     "output_type": "execute_result"
    }
   ],
   "source": [
    "[[matchings(m, n) for m in range(0, n + 1)] for n in range(10)]"
   ]
  },
  {
   "cell_type": "code",
   "execution_count": 78,
   "id": "b5cd8049-5d08-4efc-a049-59a19dda36b4",
   "metadata": {},
   "outputs": [
    {
     "name": "stdout",
     "output_type": "stream",
     "text": [
      "1393619758084766564352000\n"
     ]
    },
    {
     "data": {
      "text/plain": [
       "0.9781379699707031"
      ]
     },
     "execution_count": 78,
     "metadata": {},
     "output_type": "execute_result"
    }
   ],
   "source": [
    "MPScount.free_lookup()\n",
    "g = MPScount.AdjacencyGraphInfo()\n",
    "g.addW(3)\n",
    "g.addW(4)\n",
    "g.addW(5)\n",
    "g.addW(6)\n",
    "g.addW(6)\n",
    "g.addM(3)\n",
    "t = time.time()\n",
    "print(MPScount.countMPS(g))\n",
    "time.time() - t"
   ]
  },
  {
   "cell_type": "code",
   "execution_count": 76,
   "id": "3cc9692b-69b7-4c4a-ac79-5fee9945be90",
   "metadata": {},
   "outputs": [
    {
     "name": "stdout",
     "output_type": "stream",
     "text": [
      "1393619758084766564352000\n"
     ]
    },
    {
     "data": {
      "text/plain": [
       "1.393714189529419"
      ]
     },
     "execution_count": 76,
     "metadata": {},
     "output_type": "execute_result"
    }
   ],
   "source": [
    "MPScount.free_lookup()\n",
    "g = MPScount.AdjacencyGraphInfo()\n",
    "g.addM(3)\n",
    "g.addM(4)\n",
    "g.addM(5)\n",
    "g.addM(6)\n",
    "g.addM(6)\n",
    "g.addW(3)\n",
    "t = time.time()\n",
    "print(MPScount.countMPS(g))\n",
    "time.time() - t"
   ]
  },
  {
   "cell_type": "code",
   "execution_count": 83,
   "id": "92492302-cf7f-4295-9579-d7b177af1830",
   "metadata": {},
   "outputs": [
    {
     "data": {
      "text/plain": [
       "590016281766912000"
      ]
     },
     "execution_count": 83,
     "metadata": {},
     "output_type": "execute_result"
    }
   ],
   "source": [
    "g = MPScount.AdjacencyGraphInfo()\n",
    "m1 = 2\n",
    "m2 = 3\n",
    "w1 = 4\n",
    "w2 = 2\n",
    "n1 = 3\n",
    "n2 = 2\n",
    "n3 = 2\n",
    "n4 = 3\n",
    "g.addM(m1)\n",
    "g.addM(m2)\n",
    "g.addW(w1)\n",
    "g.addW(w2)\n",
    "g.addN(n1)\n",
    "g.addN(n2)\n",
    "g.addN(n3)\n",
    "g.addN(n4)\n",
    "count1 = MPScount.countMPS(g)\n",
    "count1"
   ]
  },
  {
   "cell_type": "code",
   "execution_count": 96,
   "id": "7a1e4cce-681f-438c-90ef-c82cec76f9d6",
   "metadata": {},
   "outputs": [
    {
     "data": {
      "text/plain": [
       "590016281766912000"
      ]
     },
     "execution_count": 96,
     "metadata": {},
     "output_type": "execute_result"
    }
   ],
   "source": [
    "g1 = MPScount.AdjacencyGraphInfo()\n",
    "g1.addM(m1)\n",
    "g1.addW(w2)\n",
    "g2 = MPScount.AdjacencyGraphInfo()\n",
    "g2.addM(m2)\n",
    "g2.addW(w1)\n",
    "g2.addN(n1)\n",
    "g2.addN(n2)\n",
    "g2.addN(n3)\n",
    "g2.addN(n4)\n",
    "g3 = MPScount.AdjacencyGraphInfo()\n",
    "g3.addM(m2)\n",
    "g3.addW(w2)\n",
    "g4 = MPScount.AdjacencyGraphInfo()\n",
    "g4.addM(m1)\n",
    "g4.addW(w1)\n",
    "g4.addN(n1)\n",
    "g4.addN(n2)\n",
    "g4.addN(n3)\n",
    "g4.addN(n4)\n",
    "count2 = math.comb(21, 4)*MPScount.countMPS(g1)*MPScount.countMPS(g2) + math.comb(21, 5)*MPScount.countMPS(g3)*MPScount.countMPS(g4) -\\\n",
    "    2*4*8*2*math.factorial(21) // (2*6*24*2*6*2*2*6)\n",
    "count2"
   ]
  },
  {
   "cell_type": "code",
   "execution_count": 93,
   "id": "678094ce-8629-4235-8d61-9a5125598a1f",
   "metadata": {},
   "outputs": [
    {
     "data": {
      "text/plain": [
       "1.133630289532294"
      ]
     },
     "execution_count": 93,
     "metadata": {},
     "output_type": "execute_result"
    }
   ],
   "source": [
    "count2 / count1"
   ]
  },
  {
   "cell_type": "code",
   "execution_count": 97,
   "id": "d475b177-8da9-46d9-b727-2d8865300566",
   "metadata": {},
   "outputs": [
    {
     "data": {
      "text/plain": [
       "13076822753280"
      ]
     },
     "execution_count": 97,
     "metadata": {},
     "output_type": "execute_result"
    }
   ],
   "source": [
    "g = MPScount.AdjacencyGraphInfo()\n",
    "g.addW(5)\n",
    "g.addW(7)\n",
    "g.addW(8)\n",
    "MPScount.countMPS(g)"
   ]
  },
  {
   "cell_type": "code",
   "execution_count": 98,
   "id": "4c10aba6-e6f7-4d8e-a7ce-bc007302dccb",
   "metadata": {},
   "outputs": [],
   "source": [
    "def equalMW(num, size):\n",
    "    g = MPScount.AdjacencyGraphInfo()\n",
    "    for i in range(num):\n",
    "        g.addM(size)\n",
    "        g.addW(size)\n",
    "    return MPScount.countMPS(g)"
   ]
  },
  {
   "cell_type": "code",
   "execution_count": 99,
   "id": "561f6bfb-f344-46a6-afb4-1005b2890e49",
   "metadata": {},
   "outputs": [
    {
     "data": {
      "text/plain": [
       "[64, 533120, 44919705600, 17937030279168000, 23231390810324336640000]"
      ]
     },
     "execution_count": 99,
     "metadata": {},
     "output_type": "execute_result"
    }
   ],
   "source": [
    "[equalMW(n, 2) for n in range(1, 6)]"
   ]
  },
  {
   "cell_type": "code",
   "execution_count": 100,
   "id": "814161ce-f732-453b-a925-a48fbab7b66c",
   "metadata": {},
   "outputs": [
    {
     "data": {
      "text/plain": [
       "[408, 533120, 535653888, 658476149760, 1158997575617024]"
      ]
     },
     "execution_count": 100,
     "metadata": {},
     "output_type": "execute_result"
    }
   ],
   "source": [
    "[equalMW(2, n) for n in range(1, 6)]"
   ]
  },
  {
   "cell_type": "code",
   "execution_count": 103,
   "id": "8e8be11d-8c0a-41e3-8ba6-31af23b188f0",
   "metadata": {},
   "outputs": [
    {
     "data": {
      "text/plain": [
       "[[6, 408, 100080, 59391360],\n",
       " [64, 533120, 44919705600, 17937030279168000],\n",
       " [584, 535653888, 13515261591896064, 3104275029230108471721984],\n",
       " [5968,\n",
       "  658476149760,\n",
       "  5272428617654872227840,\n",
       "  724579436164317101857436073984000]]"
      ]
     },
     "execution_count": 103,
     "metadata": {},
     "output_type": "execute_result"
    }
   ],
   "source": [
    "[[equalMW(num, size) for num in range(1, 5)] for size in range(1, 5)]"
   ]
  },
  {
   "cell_type": "code",
   "execution_count": 15,
   "id": "ec5904ef-68ab-4a76-b386-764bb80dbf12",
   "metadata": {},
   "outputs": [
    {
     "data": {
      "text/plain": [
       "44"
      ]
     },
     "execution_count": 15,
     "metadata": {},
     "output_type": "execute_result"
    }
   ],
   "source": [
    "g = MPScount.AdjacencyGraphInfo()\n",
    "g.addC(2)\n",
    "g.addN(2)\n",
    "MPScount.countMPS(g)"
   ]
  },
  {
   "cell_type": "code",
   "execution_count": null,
   "id": "ab37e6f1-9411-4827-b83c-f16045cd73f3",
   "metadata": {},
   "outputs": [],
   "source": []
  }
 ],
 "metadata": {
  "kernelspec": {
   "display_name": "Python 3 (ipykernel)",
   "language": "python",
   "name": "python3"
  },
  "language_info": {
   "codemirror_mode": {
    "name": "ipython",
    "version": 3
   },
   "file_extension": ".py",
   "mimetype": "text/x-python",
   "name": "python",
   "nbconvert_exporter": "python",
   "pygments_lexer": "ipython3",
   "version": "3.9.5"
  }
 },
 "nbformat": 4,
 "nbformat_minor": 5
}
