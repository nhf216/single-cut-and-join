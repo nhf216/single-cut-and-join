{
 "cells": [
  {
   "cell_type": "code",
   "execution_count": 1,
   "id": "9458ec58-dc64-4401-bd88-73715166a4fc",
   "metadata": {},
   "outputs": [],
   "source": [
    "import MPScount\n",
    "import math\n",
    "import time\n",
    "import MPScount2"
   ]
  },
  {
   "cell_type": "code",
   "execution_count": 2,
   "id": "7ccb67e9-2155-448f-ab9a-829dd523c9c3",
   "metadata": {},
   "outputs": [
    {
     "data": {
      "text/plain": [
       "<module 'MPScount' from 'G:\\\\My Drive\\\\Research\\\\MRC 2022\\\\single-cut-and-join\\\\MPScount.py'>"
      ]
     },
     "execution_count": 2,
     "metadata": {},
     "output_type": "execute_result"
    }
   ],
   "source": [
    "import importlib\n",
    "importlib.reload(MPScount)"
   ]
  },
  {
   "cell_type": "code",
   "execution_count": 3,
   "id": "bf58dc28-2119-4805-9ea1-f7eeea7cf462",
   "metadata": {},
   "outputs": [
    {
     "data": {
      "text/plain": [
       "<module 'MPScount2' from 'G:\\\\My Drive\\\\Research\\\\MRC 2022\\\\single-cut-and-join\\\\MPScount2.py'>"
      ]
     },
     "execution_count": 3,
     "metadata": {},
     "output_type": "execute_result"
    }
   ],
   "source": [
    "import importlib\n",
    "importlib.reload(MPScount2)"
   ]
  },
  {
   "cell_type": "code",
   "execution_count": 188,
   "id": "50a9bc86-e176-45e7-a09a-7652baa38997",
   "metadata": {},
   "outputs": [
    {
     "data": {
      "text/plain": [
       "1"
      ]
     },
     "execution_count": 188,
     "metadata": {},
     "output_type": "execute_result"
    }
   ],
   "source": [
    "#Test: Just an N\n",
    "g = MPScount.AdjacencyGraphInfo()\n",
    "n = 4\n",
    "g.addN(n)\n",
    "MPScount.countMPS(g)"
   ]
  },
  {
   "cell_type": "code",
   "execution_count": 189,
   "id": "02bf71ba-e1ff-4ebf-8a6c-59856c009e20",
   "metadata": {},
   "outputs": [
    {
     "data": {
      "text/plain": [
       "1"
      ]
     },
     "execution_count": 189,
     "metadata": {},
     "output_type": "execute_result"
    }
   ],
   "source": [
    "#Test: Just an N\n",
    "g = MPScount2.AdjacencyGraphInfo()\n",
    "n = 4\n",
    "g.addN(n)\n",
    "MPScount2.countMPS(g)"
   ]
  },
  {
   "cell_type": "code",
   "execution_count": 4,
   "id": "f4e3b579-105a-49ab-be67-450850bb80e1",
   "metadata": {},
   "outputs": [
    {
     "data": {
      "text/plain": [
       "8"
      ]
     },
     "execution_count": 4,
     "metadata": {},
     "output_type": "execute_result"
    }
   ],
   "source": [
    "#Test: Just an M\n",
    "g = MPScount.AdjacencyGraphInfo()\n",
    "n = 4 #/\\/\\/\\\n",
    "g.addM(n)\n",
    "MPScount.countMPS(g)"
   ]
  },
  {
   "cell_type": "code",
   "execution_count": 191,
   "id": "bb025fba-8175-4005-8904-5860a075f882",
   "metadata": {},
   "outputs": [
    {
     "data": {
      "text/plain": [
       "8"
      ]
     },
     "execution_count": 191,
     "metadata": {},
     "output_type": "execute_result"
    }
   ],
   "source": [
    "#Test: Just an M\n",
    "g = MPScount2.AdjacencyGraphInfo()\n",
    "n = 4 #/\\/\\/\\\n",
    "g.addM(n)\n",
    "MPScount2.countMPS(g, optimize_MW=False)"
   ]
  },
  {
   "cell_type": "code",
   "execution_count": 192,
   "id": "1093edd6-3994-46b7-911b-535089b97195",
   "metadata": {},
   "outputs": [
    {
     "data": {
      "text/plain": [
       "8"
      ]
     },
     "execution_count": 192,
     "metadata": {},
     "output_type": "execute_result"
    }
   ],
   "source": [
    "#Test: Just a W\n",
    "g = MPScount.AdjacencyGraphInfo()\n",
    "n = 4\n",
    "g.addW(n)\n",
    "MPScount.countMPS(g)"
   ]
  },
  {
   "cell_type": "code",
   "execution_count": 193,
   "id": "f9d551b2-ea26-443b-bb19-21c5b475e5b3",
   "metadata": {},
   "outputs": [
    {
     "data": {
      "text/plain": [
       "8"
      ]
     },
     "execution_count": 193,
     "metadata": {},
     "output_type": "execute_result"
    }
   ],
   "source": [
    "#Test: Just a W\n",
    "g = MPScount2.AdjacencyGraphInfo()\n",
    "n = 4\n",
    "g.addW(n)\n",
    "MPScount2.countMPS(g)"
   ]
  },
  {
   "cell_type": "code",
   "execution_count": 194,
   "id": "6f649dda-8a80-42f6-a4bc-ca378fa79a3b",
   "metadata": {},
   "outputs": [
    {
     "data": {
      "text/plain": [
       "80"
      ]
     },
     "execution_count": 194,
     "metadata": {},
     "output_type": "execute_result"
    }
   ],
   "source": [
    "#Test: Just a C\n",
    "g = MPScount.AdjacencyGraphInfo()\n",
    "n = 5\n",
    "g.addC(n)\n",
    "MPScount.countMPS(g)"
   ]
  },
  {
   "cell_type": "code",
   "execution_count": 195,
   "id": "3df2986a-4bd7-48ec-a3b6-0089a16f2103",
   "metadata": {},
   "outputs": [
    {
     "data": {
      "text/plain": [
       "80"
      ]
     },
     "execution_count": 195,
     "metadata": {},
     "output_type": "execute_result"
    }
   ],
   "source": [
    "#Test: Just a C\n",
    "g = MPScount2.AdjacencyGraphInfo()\n",
    "n = 5\n",
    "g.addC(n)\n",
    "MPScount2.countMPS(g)"
   ]
  },
  {
   "cell_type": "code",
   "execution_count": 196,
   "id": "7f36c74b-a7a6-45a6-80ce-613d734462ed",
   "metadata": {},
   "outputs": [
    {
     "data": {
      "text/plain": [
       "40960"
      ]
     },
     "execution_count": 196,
     "metadata": {},
     "output_type": "execute_result"
    }
   ],
   "source": [
    "#Test: A C and a W\n",
    "g = MPScount.AdjacencyGraphInfo()\n",
    "nc = 5\n",
    "nw = 7\n",
    "g.addC(nc)\n",
    "g.addW(nw)\n",
    "MPScount.countMPS(g, True)"
   ]
  },
  {
   "cell_type": "code",
   "execution_count": 197,
   "id": "b510e2c7-bb72-45f3-aad4-2d6ea48ff826",
   "metadata": {},
   "outputs": [
    {
     "data": {
      "text/plain": [
       "40960"
      ]
     },
     "execution_count": 197,
     "metadata": {},
     "output_type": "execute_result"
    }
   ],
   "source": [
    "#Test: A C and a W\n",
    "g = MPScount2.AdjacencyGraphInfo()\n",
    "nc = 5\n",
    "nw = 7\n",
    "g.addC(nc)\n",
    "g.addW(nw)\n",
    "MPScount2.countMPS(g, True)"
   ]
  },
  {
   "cell_type": "code",
   "execution_count": 198,
   "id": "0405c4f9-eeb8-471a-8dd5-da3e6efd7628",
   "metadata": {},
   "outputs": [
    {
     "data": {
      "text/plain": [
       "9072640"
      ]
     },
     "execution_count": 198,
     "metadata": {},
     "output_type": "execute_result"
    }
   ],
   "source": [
    "#Test: A C and a W\n",
    "g = MPScount.AdjacencyGraphInfo()\n",
    "nc = 5\n",
    "nw = 7\n",
    "g.addC(nc)\n",
    "g.addW(nw)\n",
    "MPScount.countMPS(g)"
   ]
  },
  {
   "cell_type": "code",
   "execution_count": 199,
   "id": "0056d303-3e26-4b21-aca6-7cba4658a784",
   "metadata": {},
   "outputs": [
    {
     "data": {
      "text/plain": [
       "9072640"
      ]
     },
     "execution_count": 199,
     "metadata": {},
     "output_type": "execute_result"
    }
   ],
   "source": [
    "#Test: A C and a W\n",
    "g = MPScount2.AdjacencyGraphInfo()\n",
    "nc = 5\n",
    "nw = 7\n",
    "g.addC(nc)\n",
    "g.addW(nw)\n",
    "MPScount2.countMPS(g)"
   ]
  },
  {
   "cell_type": "code",
   "execution_count": 200,
   "id": "9d243fb6-7bc0-4964-a103-98e14a0f4284",
   "metadata": {},
   "outputs": [
    {
     "data": {
      "text/plain": [
       "10"
      ]
     },
     "execution_count": 200,
     "metadata": {},
     "output_type": "execute_result"
    }
   ],
   "source": [
    "#Test: A C and an N\n",
    "g = MPScount.AdjacencyGraphInfo()\n",
    "nc = 5\n",
    "nn = 7\n",
    "g.addC(nc)\n",
    "g.addN(nn)\n",
    "MPScount.countMPS(g, True)"
   ]
  },
  {
   "cell_type": "code",
   "execution_count": 201,
   "id": "5b26bde1-168d-4dc7-9e68-0e291bb3b1f2",
   "metadata": {},
   "outputs": [
    {
     "data": {
      "text/plain": [
       "10"
      ]
     },
     "execution_count": 201,
     "metadata": {},
     "output_type": "execute_result"
    }
   ],
   "source": [
    "#Test: A C and an N\n",
    "g = MPScount2.AdjacencyGraphInfo()\n",
    "nc = 5\n",
    "nn = 7\n",
    "g.addC(nc)\n",
    "g.addN(nn)\n",
    "MPScount2.countMPS(g, True)"
   ]
  },
  {
   "cell_type": "code",
   "execution_count": 202,
   "id": "3d31c4c9-7a27-4b95-8970-9a827d933492",
   "metadata": {},
   "outputs": [
    {
     "data": {
      "text/plain": [
       "137360"
      ]
     },
     "execution_count": 202,
     "metadata": {},
     "output_type": "execute_result"
    }
   ],
   "source": [
    "#Test: A C and an N\n",
    "g = MPScount.AdjacencyGraphInfo()\n",
    "nc = 5\n",
    "nn = 7\n",
    "g.addC(nc)\n",
    "g.addN(nn)\n",
    "MPScount.countMPS(g)"
   ]
  },
  {
   "cell_type": "code",
   "execution_count": 4,
   "id": "79c6fdec-b5d8-4c02-9c60-fc8ba68ce697",
   "metadata": {},
   "outputs": [
    {
     "data": {
      "text/plain": [
       "137360"
      ]
     },
     "execution_count": 4,
     "metadata": {},
     "output_type": "execute_result"
    }
   ],
   "source": [
    "#Test: A C and an N\n",
    "g = MPScount2.AdjacencyGraphInfo()\n",
    "nc = 5\n",
    "nn = 7\n",
    "g.addC(nc)\n",
    "g.addN(nn)\n",
    "MPScount2.countMPS(g)"
   ]
  },
  {
   "cell_type": "code",
   "execution_count": 6,
   "id": "53c94931-2941-4663-ac57-7121c27b9d24",
   "metadata": {},
   "outputs": [
    {
     "data": {
      "text/plain": [
       "180"
      ]
     },
     "execution_count": 6,
     "metadata": {},
     "output_type": "execute_result"
    }
   ],
   "source": [
    "#Test: An M and a W\n",
    "g = MPScount.AdjacencyGraphInfo()\n",
    "nm = 3\n",
    "nw = 2\n",
    "g.addM(nm)\n",
    "g.addW(nw)\n",
    "MPScount.countMPS(g)"
   ]
  },
  {
   "cell_type": "code",
   "execution_count": 17,
   "id": "f93c88f2-0160-4cd7-bc17-5eb3d5c214ee",
   "metadata": {},
   "outputs": [
    {
     "data": {
      "text/plain": [
       "1736"
      ]
     },
     "execution_count": 17,
     "metadata": {},
     "output_type": "execute_result"
    }
   ],
   "source": [
    "#Test: An M and a W\n",
    "g = MPScount2.AdjacencyGraphInfo()\n",
    "nm = 3\n",
    "nw = 4\n",
    "g.addM(nm)\n",
    "g.addW(nw)\n",
    "MPScount2.countMPS(g)"
   ]
  },
  {
   "cell_type": "code",
   "execution_count": 12,
   "id": "84a42a7c-2715-43d0-981b-f28a7cf31add",
   "metadata": {},
   "outputs": [
    {
     "data": {
      "text/plain": [
       "2522520"
      ]
     },
     "execution_count": 12,
     "metadata": {},
     "output_type": "execute_result"
    }
   ],
   "source": [
    "## Bigger example\n",
    "g = MPScount.AdjacencyGraphInfo()\n",
    "n_vals = [2, 3, 4, 5]\n",
    "for n in n_vals:\n",
    "    g.addN(n)\n",
    "MPScount.countMPS(g)"
   ]
  },
  {
   "cell_type": "code",
   "execution_count": 207,
   "id": "f95ffcee-f720-4e88-a8b8-11eb5c65d15d",
   "metadata": {},
   "outputs": [
    {
     "data": {
      "text/plain": [
       "2522520"
      ]
     },
     "execution_count": 207,
     "metadata": {},
     "output_type": "execute_result"
    }
   ],
   "source": [
    "#Bigger example\n",
    "g = MPScount2.AdjacencyGraphInfo()\n",
    "n_vals = [2, 3, 4, 5]\n",
    "for n in n_vals:\n",
    "    g.addN(n)\n",
    "MPScount2.countMPS(g)"
   ]
  },
  {
   "cell_type": "code",
   "execution_count": 208,
   "id": "34788061-eb2b-490a-96c7-3b5e9ef310fe",
   "metadata": {},
   "outputs": [
    {
     "data": {
      "text/plain": [
       "19476"
      ]
     },
     "execution_count": 208,
     "metadata": {},
     "output_type": "execute_result"
    }
   ],
   "source": [
    "g = MPScount.AdjacencyGraphInfo()\n",
    "g.addW(4)\n",
    "g.addM(5)\n",
    "MPScount.countMPS(g)"
   ]
  },
  {
   "cell_type": "code",
   "execution_count": 209,
   "id": "437763f2-0aba-401f-97a0-29fa882983dd",
   "metadata": {},
   "outputs": [
    {
     "data": {
      "text/plain": [
       "19476"
      ]
     },
     "execution_count": 209,
     "metadata": {},
     "output_type": "execute_result"
    }
   ],
   "source": [
    "g = MPScount2.AdjacencyGraphInfo()\n",
    "g.addW(4)\n",
    "g.addM(5)\n",
    "MPScount2.countMPS(g)"
   ]
  },
  {
   "cell_type": "code",
   "execution_count": 210,
   "id": "45061f47-227b-48bc-bb8b-ffc9cdabac2c",
   "metadata": {},
   "outputs": [
    {
     "data": {
      "text/plain": [
       "35198235072000"
      ]
     },
     "execution_count": 210,
     "metadata": {},
     "output_type": "execute_result"
    }
   ],
   "source": [
    "g = MPScount.AdjacencyGraphInfo()\n",
    "g.addW(2)\n",
    "g.addM(3)\n",
    "g.addN(4)\n",
    "g.addN(3)\n",
    "g.addN(3)\n",
    "g.addN(5)\n",
    "MPScount.countMPS(g)"
   ]
  },
  {
   "cell_type": "code",
   "execution_count": 211,
   "id": "ed99ccaa-276b-4f4f-8da5-b0fddd882a24",
   "metadata": {},
   "outputs": [
    {
     "data": {
      "text/plain": [
       "35198235072000"
      ]
     },
     "execution_count": 211,
     "metadata": {},
     "output_type": "execute_result"
    }
   ],
   "source": [
    "g = MPScount2.AdjacencyGraphInfo()\n",
    "g.addW(2)\n",
    "g.addM(3)\n",
    "g.addN(4)\n",
    "g.addN(3)\n",
    "g.addN(3)\n",
    "g.addN(5)\n",
    "MPScount2.countMPS(g)"
   ]
  },
  {
   "cell_type": "code",
   "execution_count": 20,
   "id": "ceb6f630-01cf-4d20-b8dd-9d2cc4b6b530",
   "metadata": {},
   "outputs": [
    {
     "data": {
      "text/plain": [
       "98346544245934860395520000"
      ]
     },
     "execution_count": 20,
     "metadata": {},
     "output_type": "execute_result"
    }
   ],
   "source": [
    "#This takes a really long time to run\n",
    "g = MPScount2.AdjacencyGraphInfo()\n",
    "g.addC(4)\n",
    "g.addC(5)\n",
    "g.addW(2)\n",
    "g.addW(2)\n",
    "g.addM(3)\n",
    "g.addN(4)\n",
    "g.addN(3)\n",
    "g.addN(3)\n",
    "MPScount2.countMPS(g)"
   ]
  },
  {
   "cell_type": "code",
   "execution_count": 7,
   "id": "f627c743-00ef-4e34-8c1c-5d3d21ddd4ad",
   "metadata": {},
   "outputs": [
    {
     "data": {
      "text/plain": [
       "8511336249649749189273600"
      ]
     },
     "execution_count": 7,
     "metadata": {},
     "output_type": "execute_result"
    }
   ],
   "source": [
    "#This takes a really long time to run\n",
    "g = MPScount2.AdjacencyGraphInfo()\n",
    "g.addM(2)\n",
    "g.addM(3)\n",
    "g.addM(4)\n",
    "g.addW(3)\n",
    "g.addW(4)\n",
    "g.addW(5)\n",
    "g.addN(1)\n",
    "g.addN(5)\n",
    "MPScount2.countMPS(g)"
   ]
  },
  {
   "cell_type": "code",
   "execution_count": 5,
   "id": "c26e7302-7584-4a99-9bd3-526db55f42ed",
   "metadata": {},
   "outputs": [
    {
     "data": {
      "text/plain": [
       "11128877760"
      ]
     },
     "execution_count": 5,
     "metadata": {},
     "output_type": "execute_result"
    }
   ],
   "source": [
    "g = MPScount2.AdjacencyGraphInfo()\n",
    "g.addM(2)\n",
    "g.addM(3)\n",
    "g.addW(4)\n",
    "g.addW(5)\n",
    "MPScount2.countMPS(g)"
   ]
  },
  {
   "cell_type": "code",
   "execution_count": 6,
   "id": "12c3be76-8dec-43d8-bc20-37328511bafa",
   "metadata": {},
   "outputs": [
    {
     "data": {
      "text/plain": [
       "22707898942044847104"
      ]
     },
     "execution_count": 6,
     "metadata": {},
     "output_type": "execute_result"
    }
   ],
   "source": [
    "g = MPScount2.AdjacencyGraphInfo()\n",
    "g.addC(2)\n",
    "g.addC(3)\n",
    "g.addM(2)\n",
    "g.addM(3)\n",
    "g.addW(4)\n",
    "g.addW(5)\n",
    "MPScount2.countMPS(g)"
   ]
  },
  {
   "cell_type": "code",
   "execution_count": 21,
   "id": "6dc50c69-2581-43d2-bc02-05a66061546d",
   "metadata": {},
   "outputs": [
    {
     "data": {
      "text/plain": [
       "9461012889600"
      ]
     },
     "execution_count": 21,
     "metadata": {},
     "output_type": "execute_result"
    }
   ],
   "source": [
    "g = MPScount2.AdjacencyGraphInfo()\n",
    "g.addC(4)\n",
    "g.addC(5)\n",
    "g.addC(6)\n",
    "MPScount2.countMPS(g)"
   ]
  },
  {
   "cell_type": "code",
   "execution_count": 212,
   "id": "53db595c-3228-40ad-8c25-5cc28b6330e2",
   "metadata": {},
   "outputs": [
    {
     "name": "stdout",
     "output_type": "stream",
     "text": [
      "W: {1: 3}, M: {0: 5} (G: {0: {0, 1}})\n",
      "  W: {1: 2}, M: {0: 5} (G: {0: {0, 1}})\n",
      "    W: {1: 1}, M: {0: 5} (G: {0: {0, 1}})\n",
      "      N: {2: 0, 3: 5}\n",
      "      N: {2: 4, 3: 1}\n",
      "      N: {2: 1, 3: 4}\n",
      "      N: {2: 3, 3: 2}\n",
      "      N: {2: 2, 3: 3}\n",
      "      N: {2: 2, 3: 3}\n",
      "      N: {2: 3, 3: 2}\n",
      "      N: {2: 1, 3: 4}\n",
      "      N: {2: 4, 3: 1}\n",
      "      N: {2: 0, 3: 5}\n",
      "    N: {2: 0, 3: 6}\n",
      "    N: {2: 4, 3: 2}\n",
      "    N: {2: 1, 3: 5}\n",
      "    N: {2: 3, 3: 3}\n",
      "    N: {2: 2, 3: 4}\n",
      "    N: {2: 2, 3: 4}\n",
      "    N: {2: 3, 3: 3}\n",
      "    N: {2: 1, 3: 5}\n",
      "    N: {2: 4, 3: 2}\n",
      "    N: {2: 0, 3: 6}\n",
      "  N: {2: 0, 3: 7}\n",
      "  N: {2: 4, 3: 3}\n",
      "  N: {2: 1, 3: 6}\n",
      "  N: {2: 3, 3: 4}\n",
      "  N: {2: 2, 3: 5}\n",
      "  N: {2: 2, 3: 5}\n",
      "  N: {2: 3, 3: 4}\n",
      "  N: {2: 1, 3: 6}\n",
      "  N: {2: 4, 3: 3}\n",
      "  N: {2: 0, 3: 7}\n"
     ]
    },
    {
     "data": {
      "text/plain": [
       "1348"
      ]
     },
     "execution_count": 212,
     "metadata": {},
     "output_type": "execute_result"
    }
   ],
   "source": [
    "#Testing grouping stuff with MPScount2\n",
    "#First, let's force an M and W to merge\n",
    "g = MPScount2.AdjacencyGraphInfo()\n",
    "M_index = g.addM(5)\n",
    "W_index = g.addW(3)\n",
    "g.groupComponents(M_index, W_index)\n",
    "MPScount2.countMPS(g, debug = True)"
   ]
  },
  {
   "cell_type": "code",
   "execution_count": 213,
   "id": "4060600c-e1c5-46d5-bda4-9caf0ff4a928",
   "metadata": {},
   "outputs": [
    {
     "data": {
      "text/plain": [
       "23187161088"
      ]
     },
     "execution_count": 213,
     "metadata": {},
     "output_type": "execute_result"
    }
   ],
   "source": [
    "#Now, let's do a group of 4 crowns of size 3\n",
    "g = MPScount2.AdjacencyGraphInfo()\n",
    "indices = set()\n",
    "indices.add(g.addC(3))\n",
    "indices.add(g.addC(3))\n",
    "indices.add(g.addC(3))\n",
    "indices.add(g.addC(3))\n",
    "g.groupComponents(*indices)\n",
    "MPScount2.countMPS(g)"
   ]
  },
  {
   "cell_type": "code",
   "execution_count": 224,
   "id": "afa04a37-d090-4f46-9ea8-67aad8f5ed6f",
   "metadata": {},
   "outputs": [
    {
     "data": {
      "text/plain": [
       "6912"
      ]
     },
     "execution_count": 224,
     "metadata": {},
     "output_type": "execute_result"
    }
   ],
   "source": [
    "#Now, let's do a group of 2 crowns of size 3\n",
    "g = MPScount2.AdjacencyGraphInfo()\n",
    "indices = set()\n",
    "indices.add(g.addC(3))\n",
    "indices.add(g.addC(3))\n",
    "g.groupComponents(*indices)\n",
    "MPScount2.countMPS(g)"
   ]
  },
  {
   "cell_type": "code",
   "execution_count": 215,
   "id": "6d3308ea-a328-4d19-84ce-9c66f963b65b",
   "metadata": {},
   "outputs": [
    {
     "name": "stdout",
     "output_type": "stream",
     "text": [
      "True\n"
     ]
    },
    {
     "data": {
      "text/plain": [
       "384"
      ]
     },
     "execution_count": 215,
     "metadata": {},
     "output_type": "execute_result"
    }
   ],
   "source": [
    "#Now, let's do a group of 2 crowns of size 3\n",
    "g = MPScount2.AdjacencyGraphInfo()\n",
    "indices = set()\n",
    "indices.add(g.addC(3))\n",
    "indices.add(g.addW(2))\n",
    "g.groupComponents(*indices)\n",
    "print(g.canReduce(0,1))\n",
    "MPScount2.countMPS(g)"
   ]
  },
  {
   "cell_type": "code",
   "execution_count": 218,
   "id": "1cc51cde-0d17-452f-827e-03e7a0e8d5a9",
   "metadata": {},
   "outputs": [
    {
     "name": "stdout",
     "output_type": "stream",
     "text": [
      "True\n",
      "W: {0: 2}, C: {1: 3} (G: {0: {0, 1}})\n"
     ]
    },
    {
     "data": {
      "text/plain": [
       "384"
      ]
     },
     "execution_count": 218,
     "metadata": {},
     "output_type": "execute_result"
    }
   ],
   "source": [
    "#Now, let's do a group of 2 crowns of size 3\n",
    "g = MPScount2.AdjacencyGraphInfo()\n",
    "indices = set()\n",
    "indices.add(g.addW(2))\n",
    "indices.add(g.addC(3))\n",
    "g.groupComponents(*indices)\n",
    "print(g.canReduce(0,1))\n",
    "MPScount2.countMPS(g, debug = True)"
   ]
  },
  {
   "cell_type": "code",
   "execution_count": 223,
   "id": "9da876e9-8673-41a2-a078-cbd56068f73b",
   "metadata": {},
   "outputs": [
    {
     "data": {
      "text/plain": [
       "6912"
      ]
     },
     "execution_count": 223,
     "metadata": {},
     "output_type": "execute_result"
    }
   ],
   "source": [
    "4*3*3*2**5*6"
   ]
  },
  {
   "cell_type": "code",
   "execution_count": 222,
   "id": "1615f46c-dfd7-40f0-b00f-a7dfff338834",
   "metadata": {},
   "outputs": [
    {
     "data": {
      "text/plain": [
       "512"
      ]
     },
     "execution_count": 222,
     "metadata": {},
     "output_type": "execute_result"
    }
   ],
   "source": [
    "4*2*2*2**3*4"
   ]
  },
  {
   "cell_type": "code",
   "execution_count": 228,
   "id": "d8c631af-7756-4a93-b830-ae7c61dc9b52",
   "metadata": {},
   "outputs": [
    {
     "data": {
      "text/plain": [
       "3584"
      ]
     },
     "execution_count": 228,
     "metadata": {},
     "output_type": "execute_result"
    }
   ],
   "source": [
    "#Test isolating an M from a W\n",
    "g = MPScount2.AdjacencyGraphInfo()\n",
    "g.addW(3)\n",
    "m_index = g.addM(5)\n",
    "g.isolateComponent(m_index)\n",
    "MPScount2.countMPS(g)"
   ]
  },
  {
   "cell_type": "code",
   "execution_count": 229,
   "id": "2ed5bff1-89ff-4326-be91-10d149831bbd",
   "metadata": {},
   "outputs": [
    {
     "data": {
      "text/plain": [
       "8284320"
      ]
     },
     "execution_count": 229,
     "metadata": {},
     "output_type": "execute_result"
    }
   ],
   "source": [
    "#Test forcing an M to merge with some W\n",
    "g = MPScount2.AdjacencyGraphInfo()\n",
    "g.addW(3)\n",
    "m_index = g.addM(5)\n",
    "g.addW(4)\n",
    "g.mergeComponent(m_index)\n",
    "MPScount2.countMPS(g)"
   ]
  },
  {
   "cell_type": "code",
   "execution_count": 234,
   "id": "37b4badd-778f-4a03-b4c9-6119939e87a7",
   "metadata": {},
   "outputs": [
    {
     "data": {
      "text/plain": [
       "29886750720"
      ]
     },
     "execution_count": 234,
     "metadata": {},
     "output_type": "execute_result"
    }
   ],
   "source": [
    "#Big test with lots of things\n",
    "MPScount2.free_lookup()\n",
    "g = MPScount2.AdjacencyGraphInfo()\n",
    "w_index = g.addW(3)\n",
    "m_index = g.addM(5)\n",
    "c1_index = g.addC(4)\n",
    "c2_index = g.addC(3)\n",
    "g.mergeComponent(m_index)\n",
    "g.isolateComponent(w_index)\n",
    "g.groupComponents(c1_index, c2_index)\n",
    "#MPScount2.countMPS(g, debug = True)\n",
    "MPScount2.countMPS(g)"
   ]
  },
  {
   "cell_type": "code",
   "execution_count": 235,
   "id": "f7d91304-6668-477c-aa32-aa1579a007fa",
   "metadata": {},
   "outputs": [
    {
     "data": {
      "text/plain": [
       "8"
      ]
     },
     "execution_count": 235,
     "metadata": {},
     "output_type": "execute_result"
    }
   ],
   "source": [
    "g = MPScount.AdjacencyGraphInfo()\n",
    "g.addC(2)\n",
    "g.addN(0)\n",
    "MPScount.countMPS(g)"
   ]
  },
  {
   "cell_type": "code",
   "execution_count": 236,
   "id": "af11cf94-450e-4729-a8c1-24bd4b4e3565",
   "metadata": {},
   "outputs": [
    {
     "data": {
      "text/plain": [
       "8"
      ]
     },
     "execution_count": 236,
     "metadata": {},
     "output_type": "execute_result"
    }
   ],
   "source": [
    "g = MPScount2.AdjacencyGraphInfo()\n",
    "g.addC(2)\n",
    "g.addN(0)\n",
    "MPScount2.countMPS(g)"
   ]
  },
  {
   "cell_type": "code",
   "execution_count": 10,
   "id": "27290989-19b7-4235-acf1-5e4541be970a",
   "metadata": {},
   "outputs": [
    {
     "data": {
      "text/plain": [
       "672672000"
      ]
     },
     "execution_count": 10,
     "metadata": {},
     "output_type": "execute_result"
    }
   ],
   "source": [
    "math.factorial(15)//(6**5)*4"
   ]
  },
  {
   "cell_type": "code",
   "execution_count": 23,
   "id": "1307fee1-7955-4979-978b-29dd3e769944",
   "metadata": {},
   "outputs": [
    {
     "data": {
      "text/plain": [
       "True"
      ]
     },
     "execution_count": 23,
     "metadata": {},
     "output_type": "execute_result"
    }
   ],
   "source": [
    "h = MPScount.AdjacencyGraphInfo()\n",
    "h.addW(2)\n",
    "h.addM(2)\n",
    "h.addN(1)\n",
    "g == h"
   ]
  },
  {
   "cell_type": "code",
   "execution_count": 24,
   "id": "1274bdb6-40bf-4d0c-9556-44d7200e2227",
   "metadata": {},
   "outputs": [
    {
     "data": {
      "text/plain": [
       "N: {1: 1}\n",
       "W: {2: 1}\n",
       "M: {2: 1}\n",
       "C: {}"
      ]
     },
     "execution_count": 24,
     "metadata": {},
     "output_type": "execute_result"
    }
   ],
   "source": [
    "g"
   ]
  },
  {
   "cell_type": "code",
   "execution_count": 35,
   "id": "11292311-9c4b-4c4d-95dc-e5b01411fd7a",
   "metadata": {},
   "outputs": [],
   "source": [
    "def matchings(m, n = -1):\n",
    "    if n < m:\n",
    "        n = m\n",
    "    ret = 0\n",
    "    for k in range(m + 1):\n",
    "        ret += math.comb(m, k) * math.comb(n, k) * math.factorial(k)\n",
    "    return ret"
   ]
  },
  {
   "cell_type": "code",
   "execution_count": 36,
   "id": "5e9d9744-8d35-4785-81d4-a3e00a48ac40",
   "metadata": {},
   "outputs": [
    {
     "data": {
      "text/plain": [
       "[2, 7, 34, 209, 1546, 13327, 130922, 1441729, 17572114]"
      ]
     },
     "execution_count": 36,
     "metadata": {},
     "output_type": "execute_result"
    }
   ],
   "source": [
    "[matchings(n) for n in range(1, 10)]"
   ]
  },
  {
   "cell_type": "code",
   "execution_count": 38,
   "id": "6a9f2c84-eaff-496d-bf60-d101bfd7727d",
   "metadata": {},
   "outputs": [
    {
     "data": {
      "text/plain": [
       "[[1],\n",
       " [1, 2],\n",
       " [1, 3, 7],\n",
       " [1, 4, 13, 34],\n",
       " [1, 5, 21, 73, 209],\n",
       " [1, 6, 31, 136, 501, 1546],\n",
       " [1, 7, 43, 229, 1045, 4051, 13327],\n",
       " [1, 8, 57, 358, 1961, 9276, 37633, 130922],\n",
       " [1, 9, 73, 529, 3393, 19081, 93289, 394353, 1441729],\n",
       " [1, 10, 91, 748, 5509, 36046, 207775, 1047376, 4596553, 17572114]]"
      ]
     },
     "execution_count": 38,
     "metadata": {},
     "output_type": "execute_result"
    }
   ],
   "source": [
    "[[matchings(m, n) for m in range(0, n + 1)] for n in range(10)]"
   ]
  },
  {
   "cell_type": "code",
   "execution_count": 78,
   "id": "b5cd8049-5d08-4efc-a049-59a19dda36b4",
   "metadata": {},
   "outputs": [
    {
     "name": "stdout",
     "output_type": "stream",
     "text": [
      "1393619758084766564352000\n"
     ]
    },
    {
     "data": {
      "text/plain": [
       "0.9781379699707031"
      ]
     },
     "execution_count": 78,
     "metadata": {},
     "output_type": "execute_result"
    }
   ],
   "source": [
    "MPScount.free_lookup()\n",
    "g = MPScount.AdjacencyGraphInfo()\n",
    "g.addW(3)\n",
    "g.addW(4)\n",
    "g.addW(5)\n",
    "g.addW(6)\n",
    "g.addW(6)\n",
    "g.addM(3)\n",
    "t = time.time()\n",
    "print(MPScount.countMPS(g))\n",
    "time.time() - t"
   ]
  },
  {
   "cell_type": "code",
   "execution_count": 76,
   "id": "3cc9692b-69b7-4c4a-ac79-5fee9945be90",
   "metadata": {},
   "outputs": [
    {
     "name": "stdout",
     "output_type": "stream",
     "text": [
      "1393619758084766564352000\n"
     ]
    },
    {
     "data": {
      "text/plain": [
       "1.393714189529419"
      ]
     },
     "execution_count": 76,
     "metadata": {},
     "output_type": "execute_result"
    }
   ],
   "source": [
    "MPScount.free_lookup()\n",
    "g = MPScount.AdjacencyGraphInfo()\n",
    "g.addM(3)\n",
    "g.addM(4)\n",
    "g.addM(5)\n",
    "g.addM(6)\n",
    "g.addM(6)\n",
    "g.addW(3)\n",
    "t = time.time()\n",
    "print(MPScount.countMPS(g))\n",
    "time.time() - t"
   ]
  },
  {
   "cell_type": "code",
   "execution_count": 83,
   "id": "92492302-cf7f-4295-9579-d7b177af1830",
   "metadata": {},
   "outputs": [
    {
     "data": {
      "text/plain": [
       "590016281766912000"
      ]
     },
     "execution_count": 83,
     "metadata": {},
     "output_type": "execute_result"
    }
   ],
   "source": [
    "g = MPScount.AdjacencyGraphInfo()\n",
    "m1 = 2\n",
    "m2 = 3\n",
    "w1 = 4\n",
    "w2 = 2\n",
    "n1 = 3\n",
    "n2 = 2\n",
    "n3 = 2\n",
    "n4 = 3\n",
    "g.addM(m1)\n",
    "g.addM(m2)\n",
    "g.addW(w1)\n",
    "g.addW(w2)\n",
    "g.addN(n1)\n",
    "g.addN(n2)\n",
    "g.addN(n3)\n",
    "g.addN(n4)\n",
    "count1 = MPScount.countMPS(g)\n",
    "count1"
   ]
  },
  {
   "cell_type": "code",
   "execution_count": 96,
   "id": "7a1e4cce-681f-438c-90ef-c82cec76f9d6",
   "metadata": {},
   "outputs": [
    {
     "data": {
      "text/plain": [
       "590016281766912000"
      ]
     },
     "execution_count": 96,
     "metadata": {},
     "output_type": "execute_result"
    }
   ],
   "source": [
    "g1 = MPScount.AdjacencyGraphInfo()\n",
    "g1.addM(m1)\n",
    "g1.addW(w2)\n",
    "g2 = MPScount.AdjacencyGraphInfo()\n",
    "g2.addM(m2)\n",
    "g2.addW(w1)\n",
    "g2.addN(n1)\n",
    "g2.addN(n2)\n",
    "g2.addN(n3)\n",
    "g2.addN(n4)\n",
    "g3 = MPScount.AdjacencyGraphInfo()\n",
    "g3.addM(m2)\n",
    "g3.addW(w2)\n",
    "g4 = MPScount.AdjacencyGraphInfo()\n",
    "g4.addM(m1)\n",
    "g4.addW(w1)\n",
    "g4.addN(n1)\n",
    "g4.addN(n2)\n",
    "g4.addN(n3)\n",
    "g4.addN(n4)\n",
    "count2 = math.comb(21, 4)*MPScount.countMPS(g1)*MPScount.countMPS(g2) + math.comb(21, 5)*MPScount.countMPS(g3)*MPScount.countMPS(g4) -\\\n",
    "    2*4*8*2*math.factorial(21) // (2*6*24*2*6*2*2*6)\n",
    "count2"
   ]
  },
  {
   "cell_type": "code",
   "execution_count": 93,
   "id": "678094ce-8629-4235-8d61-9a5125598a1f",
   "metadata": {},
   "outputs": [
    {
     "data": {
      "text/plain": [
       "1.133630289532294"
      ]
     },
     "execution_count": 93,
     "metadata": {},
     "output_type": "execute_result"
    }
   ],
   "source": [
    "count2 / count1"
   ]
  },
  {
   "cell_type": "code",
   "execution_count": 97,
   "id": "d475b177-8da9-46d9-b727-2d8865300566",
   "metadata": {},
   "outputs": [
    {
     "data": {
      "text/plain": [
       "13076822753280"
      ]
     },
     "execution_count": 97,
     "metadata": {},
     "output_type": "execute_result"
    }
   ],
   "source": [
    "g = MPScount.AdjacencyGraphInfo()\n",
    "g.addW(5)\n",
    "g.addW(7)\n",
    "g.addW(8)\n",
    "MPScount.countMPS(g)"
   ]
  },
  {
   "cell_type": "code",
   "execution_count": 98,
   "id": "4c10aba6-e6f7-4d8e-a7ce-bc007302dccb",
   "metadata": {},
   "outputs": [],
   "source": [
    "def equalMW(num, size):\n",
    "    g = MPScount.AdjacencyGraphInfo()\n",
    "    for i in range(num):\n",
    "        g.addM(size)\n",
    "        g.addW(size)\n",
    "    return MPScount.countMPS(g)"
   ]
  },
  {
   "cell_type": "code",
   "execution_count": 99,
   "id": "561f6bfb-f344-46a6-afb4-1005b2890e49",
   "metadata": {},
   "outputs": [
    {
     "data": {
      "text/plain": [
       "[64, 533120, 44919705600, 17937030279168000, 23231390810324336640000]"
      ]
     },
     "execution_count": 99,
     "metadata": {},
     "output_type": "execute_result"
    }
   ],
   "source": [
    "[equalMW(n, 2) for n in range(1, 6)]"
   ]
  },
  {
   "cell_type": "code",
   "execution_count": 100,
   "id": "814161ce-f732-453b-a925-a48fbab7b66c",
   "metadata": {},
   "outputs": [
    {
     "data": {
      "text/plain": [
       "[408, 533120, 535653888, 658476149760, 1158997575617024]"
      ]
     },
     "execution_count": 100,
     "metadata": {},
     "output_type": "execute_result"
    }
   ],
   "source": [
    "[equalMW(2, n) for n in range(1, 6)]"
   ]
  },
  {
   "cell_type": "code",
   "execution_count": 103,
   "id": "8e8be11d-8c0a-41e3-8ba6-31af23b188f0",
   "metadata": {},
   "outputs": [
    {
     "data": {
      "text/plain": [
       "[[6, 408, 100080, 59391360],\n",
       " [64, 533120, 44919705600, 17937030279168000],\n",
       " [584, 535653888, 13515261591896064, 3104275029230108471721984],\n",
       " [5968,\n",
       "  658476149760,\n",
       "  5272428617654872227840,\n",
       "  724579436164317101857436073984000]]"
      ]
     },
     "execution_count": 103,
     "metadata": {},
     "output_type": "execute_result"
    }
   ],
   "source": [
    "[[equalMW(num, size) for num in range(1, 5)] for size in range(1, 5)]"
   ]
  },
  {
   "cell_type": "code",
   "execution_count": 14,
   "id": "ec5904ef-68ab-4a76-b386-764bb80dbf12",
   "metadata": {},
   "outputs": [
    {
     "data": {
      "text/plain": [
       "704"
      ]
     },
     "execution_count": 14,
     "metadata": {},
     "output_type": "execute_result"
    }
   ],
   "source": [
    "g = MPScount.AdjacencyGraphInfo()\n",
    "g.addC(2)\n",
    "g.addW(3)\n",
    "MPScount.countMPS(g)"
   ]
  },
  {
   "cell_type": "code",
   "execution_count": 15,
   "id": "ab37e6f1-9411-4827-b83c-f16045cd73f3",
   "metadata": {},
   "outputs": [],
   "source": [
    "def twoCrowns(c1, c2):\n",
    "    return c1*c2*2**(c1+c2-2)*(8*(c1+c2)+math.comb(c1+c2+2,c1+1))"
   ]
  },
  {
   "cell_type": "code",
   "execution_count": 18,
   "id": "c939cb8f-1cb8-459f-975e-7bc5a5ee19fe",
   "metadata": {},
   "outputs": [
    {
     "data": {
      "text/plain": [
       "297227417031717853069312"
      ]
     },
     "execution_count": 18,
     "metadata": {},
     "output_type": "execute_result"
    }
   ],
   "source": [
    "c1 = 37\n",
    "c2 = 7\n",
    "twoCrowns(c1, c2)"
   ]
  },
  {
   "cell_type": "code",
   "execution_count": 19,
   "id": "4337a9a7-fa81-4781-8410-6afd6e41fe5c",
   "metadata": {},
   "outputs": [
    {
     "data": {
      "text/plain": [
       "297227417031717853069312"
      ]
     },
     "execution_count": 19,
     "metadata": {},
     "output_type": "execute_result"
    }
   ],
   "source": [
    "g = MPScount.AdjacencyGraphInfo()\n",
    "g.addC(c1)\n",
    "g.addC(c2)\n",
    "MPScount.countMPS(g)"
   ]
  },
  {
   "cell_type": "code",
   "execution_count": 2,
   "id": "3439bc95-dbe9-43f0-b4df-2764dfa97e35",
   "metadata": {
    "tags": []
   },
   "outputs": [],
   "source": [
    "import MPSrec"
   ]
  },
  {
   "cell_type": "code",
   "execution_count": 175,
   "id": "fd32ce76-3718-4524-87f8-bddfbe614cf2",
   "metadata": {},
   "outputs": [
    {
     "data": {
      "text/plain": [
       "<module 'MPSrec' from '/home/nfox/Documents/Work and School/Research/Cut and Join/single-cut-and-join/MPSrec.py'>"
      ]
     },
     "execution_count": 175,
     "metadata": {},
     "output_type": "execute_result"
    }
   ],
   "source": [
    "importlib.reload(MPSrec)"
   ]
  },
  {
   "cell_type": "code",
   "execution_count": 179,
   "id": "9e52dbcc-7fe5-4dd7-ad25-b6199ddfbac2",
   "metadata": {},
   "outputs": [
    {
     "data": {
      "text/plain": [
       "70466057774778721981685760"
      ]
     },
     "execution_count": 179,
     "metadata": {},
     "output_type": "execute_result"
    }
   ],
   "source": [
    "g = MPScount.AdjacencyGraphInfo()\n",
    "g.addM(4)\n",
    "g.addM(2)\n",
    "g.addM(3)\n",
    "g.addW(4)\n",
    "g.addW(6)\n",
    "g.addW(3)\n",
    "#g.addN(1)\n",
    "g.addN(1)\n",
    "g.addN(5)\n",
    "MPScount.countMPS(g)"
   ]
  },
  {
   "cell_type": "code",
   "execution_count": 180,
   "id": "dbf5d6e8-4ed5-4e46-acec-4613e5316d7d",
   "metadata": {
    "tags": []
   },
   "outputs": [
    {
     "data": {
      "text/plain": [
       "85276231339505253012725760"
      ]
     },
     "execution_count": 180,
     "metadata": {},
     "output_type": "execute_result"
    }
   ],
   "source": [
    "MPSrec.S(g)"
   ]
  },
  {
   "cell_type": "code",
   "execution_count": 181,
   "id": "c7faac64-c635-48c8-9223-33611ab5e167",
   "metadata": {},
   "outputs": [
    {
     "data": {
      "text/plain": [
       "70466057774778721981685760"
      ]
     },
     "execution_count": 181,
     "metadata": {},
     "output_type": "execute_result"
    }
   ],
   "source": [
    "MPSrec.S2(g)"
   ]
  },
  {
   "cell_type": "code",
   "execution_count": 47,
   "id": "99610bf5-2c88-45c7-ae87-5590190ad9eb",
   "metadata": {},
   "outputs": [],
   "source": [
    "g = MPScount.AdjacencyGraphInfo()\n",
    "g.addM(1)\n",
    "g.addN(1)\n",
    "g.addN(1)"
   ]
  },
  {
   "cell_type": "code",
   "execution_count": 54,
   "id": "e17c45fe-e68c-40cc-ba06-511e78096cce",
   "metadata": {},
   "outputs": [
    {
     "data": {
      "text/plain": [
       "6"
      ]
     },
     "execution_count": 54,
     "metadata": {},
     "output_type": "execute_result"
    }
   ],
   "source": [
    "MPScount.countMPS(g)"
   ]
  },
  {
   "cell_type": "code",
   "execution_count": 61,
   "id": "e10404b3-7400-4b21-81e2-3269a494e715",
   "metadata": {},
   "outputs": [
    {
     "data": {
      "text/plain": [
       "6"
      ]
     },
     "execution_count": 61,
     "metadata": {},
     "output_type": "execute_result"
    }
   ],
   "source": [
    "MPSrec.S(g)"
   ]
  },
  {
   "cell_type": "code",
   "execution_count": 91,
   "id": "a24b12a5-b287-46ca-9770-9dfee0a24dd2",
   "metadata": {},
   "outputs": [
    {
     "data": {
      "text/plain": [
       "120"
      ]
     },
     "execution_count": 91,
     "metadata": {},
     "output_type": "execute_result"
    }
   ],
   "source": [
    "g = MPScount.AdjacencyGraphInfo()\n",
    "g.addM(1)\n",
    "g.addW(1)\n",
    "g.addW(1)\n",
    "g.addN(1)\n",
    "MPScount.countMPS(g)"
   ]
  },
  {
   "cell_type": "code",
   "execution_count": 86,
   "id": "538af80b-aa57-4a43-ad40-9fbf357aedf1",
   "metadata": {},
   "outputs": [
    {
     "data": {
      "text/plain": [
       "1560"
      ]
     },
     "execution_count": 86,
     "metadata": {},
     "output_type": "execute_result"
    }
   ],
   "source": [
    "120+ 6*120+6*120"
   ]
  },
  {
   "cell_type": "code",
   "execution_count": 89,
   "id": "fb30aabe-72b3-4003-94df-66aa18d15647",
   "metadata": {},
   "outputs": [
    {
     "data": {
      "text/plain": [
       "348"
      ]
     },
     "execution_count": 89,
     "metadata": {},
     "output_type": "execute_result"
    }
   ],
   "source": [
    "2*174"
   ]
  },
  {
   "cell_type": "code",
   "execution_count": 92,
   "id": "37fab0a1-8897-4d36-b89c-8688c46786d8",
   "metadata": {},
   "outputs": [
    {
     "data": {
      "text/plain": [
       "3216"
      ]
     },
     "execution_count": 92,
     "metadata": {},
     "output_type": "execute_result"
    }
   ],
   "source": [
    "2*(168+1440)"
   ]
  },
  {
   "cell_type": "code",
   "execution_count": 93,
   "id": "3ef3af5f-1296-4532-a983-663329a2b188",
   "metadata": {},
   "outputs": [
    {
     "data": {
      "text/plain": [
       "4440"
      ]
     },
     "execution_count": 93,
     "metadata": {},
     "output_type": "execute_result"
    }
   ],
   "source": [
    "12+6*28+3*348+3216"
   ]
  },
  {
   "cell_type": "code",
   "execution_count": 94,
   "id": "542e565a-2053-4650-8b85-40a2496cd762",
   "metadata": {},
   "outputs": [
    {
     "data": {
      "text/plain": [
       "1.162162162162162"
      ]
     },
     "execution_count": 94,
     "metadata": {},
     "output_type": "execute_result"
    }
   ],
   "source": [
    "5160/4440"
   ]
  },
  {
   "cell_type": "code",
   "execution_count": 100,
   "id": "1c72199e-1a0a-4585-811c-5d5213a9909d",
   "metadata": {},
   "outputs": [
    {
     "data": {
      "text/plain": [
       "120"
      ]
     },
     "execution_count": 100,
     "metadata": {},
     "output_type": "execute_result"
    }
   ],
   "source": [
    "MPSrec.Sstar(g)"
   ]
  },
  {
   "cell_type": "code",
   "execution_count": 107,
   "id": "f3d7a2a2-4be3-4237-9c2e-3a6e0c28e962",
   "metadata": {},
   "outputs": [
    {
     "data": {
      "text/plain": [
       "2212799872365184969360"
      ]
     },
     "execution_count": 107,
     "metadata": {},
     "output_type": "execute_result"
    }
   ],
   "source": [
    "g = MPScount.AdjacencyGraphInfo()\n",
    "g.addM(7)\n",
    "g.addW(40)\n",
    "MPScount.countMPS(g)"
   ]
  },
  {
   "cell_type": "code",
   "execution_count": 105,
   "id": "22b57c4d-c042-4384-8152-046ea00a18ec",
   "metadata": {},
   "outputs": [
    {
     "name": "stdout",
     "output_type": "stream",
     "text": [
      "2 1 1 0\n",
      "0 0 0 0\n"
     ]
    },
    {
     "data": {
      "text/plain": [
       "6"
      ]
     },
     "execution_count": 105,
     "metadata": {},
     "output_type": "execute_result"
    }
   ],
   "source": [
    "MPSrec.S(g)"
   ]
  },
  {
   "cell_type": "code",
   "execution_count": 108,
   "id": "4e69c291-b91b-468c-a469-6f19e2c44bbd",
   "metadata": {},
   "outputs": [
    {
     "data": {
      "text/plain": [
       "2212799872365184969360"
      ]
     },
     "execution_count": 108,
     "metadata": {},
     "output_type": "execute_result"
    }
   ],
   "source": [
    "MPSrec.SMW(7,40)"
   ]
  },
  {
   "cell_type": "code",
   "execution_count": 174,
   "id": "0b1ff710-6797-4f5d-a3cd-13d1916b6bdb",
   "metadata": {},
   "outputs": [
    {
     "data": {
      "text/plain": [
       "5.026154388534852"
      ]
     },
     "execution_count": 174,
     "metadata": {},
     "output_type": "execute_result"
    }
   ],
   "source": [
    "17885387520 / 3558463616"
   ]
  },
  {
   "cell_type": "code",
   "execution_count": 182,
   "id": "d4e9251b-1d34-44d7-a532-3f50e4f968e8",
   "metadata": {},
   "outputs": [
    {
     "data": {
      "text/plain": [
       "25.84797997556211"
      ]
     },
     "execution_count": 182,
     "metadata": {},
     "output_type": "execute_result"
    }
   ],
   "source": [
    "math.log10(_)"
   ]
  }
 ],
 "metadata": {
  "kernelspec": {
   "display_name": "Python 3 (ipykernel)",
   "language": "python",
   "name": "python3"
  },
  "language_info": {
   "codemirror_mode": {
    "name": "ipython",
    "version": 3
   },
   "file_extension": ".py",
   "mimetype": "text/x-python",
   "name": "python",
   "nbconvert_exporter": "python",
   "pygments_lexer": "ipython3",
   "version": "3.10.4"
  }
 },
 "nbformat": 4,
 "nbformat_minor": 5
}
