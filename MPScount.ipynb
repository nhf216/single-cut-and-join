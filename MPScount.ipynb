{
 "cells": [
  {
   "cell_type": "code",
   "execution_count": 1,
   "id": "9458ec58-dc64-4401-bd88-73715166a4fc",
   "metadata": {},
   "outputs": [],
   "source": [
    "import MPScount\n",
    "import math\n",
    "import time"
   ]
  },
  {
   "cell_type": "code",
   "execution_count": 2,
   "id": "7ccb67e9-2155-448f-ab9a-829dd523c9c3",
   "metadata": {},
   "outputs": [
    {
     "data": {
      "text/plain": [
       "<module 'MPScount' from '/home/nfox/Documents/Work and School/Research/Cut and Join/single-cut-and-join/MPScount.py'>"
      ]
     },
     "execution_count": 2,
     "metadata": {},
     "output_type": "execute_result"
    }
   ],
   "source": [
    "import importlib\n",
    "importlib.reload(MPScount)"
   ]
  },
  {
   "cell_type": "code",
   "execution_count": 3,
   "id": "50a9bc86-e176-45e7-a09a-7652baa38997",
   "metadata": {},
   "outputs": [
    {
     "data": {
      "text/plain": [
       "1"
      ]
     },
     "execution_count": 3,
     "metadata": {},
     "output_type": "execute_result"
    }
   ],
   "source": [
    "#Test: Just an N\n",
    "g = MPScount.AdjacencyGraphInfo()\n",
    "n = 4\n",
    "g.addN(n)\n",
    "MPScount.countMPS(g)"
   ]
  },
  {
   "cell_type": "code",
   "execution_count": 4,
   "id": "f4e3b579-105a-49ab-be67-450850bb80e1",
   "metadata": {},
   "outputs": [
    {
     "data": {
      "text/plain": [
       "8"
      ]
     },
     "execution_count": 4,
     "metadata": {},
     "output_type": "execute_result"
    }
   ],
   "source": [
    "#Test: Just an M\n",
    "g = MPScount.AdjacencyGraphInfo()\n",
    "n = 4 #/\\/\\/\\\n",
    "g.addM(n)\n",
    "MPScount.countMPS(g)"
   ]
  },
  {
   "cell_type": "code",
   "execution_count": 5,
   "id": "1093edd6-3994-46b7-911b-535089b97195",
   "metadata": {},
   "outputs": [
    {
     "data": {
      "text/plain": [
       "8"
      ]
     },
     "execution_count": 5,
     "metadata": {},
     "output_type": "execute_result"
    }
   ],
   "source": [
    "#Test: Just a W\n",
    "g = MPScount.AdjacencyGraphInfo()\n",
    "n = 4\n",
    "g.addW(n)\n",
    "MPScount.countMPS(g)"
   ]
  },
  {
   "cell_type": "code",
   "execution_count": 6,
   "id": "6f649dda-8a80-42f6-a4bc-ca378fa79a3b",
   "metadata": {},
   "outputs": [
    {
     "data": {
      "text/plain": [
       "80"
      ]
     },
     "execution_count": 6,
     "metadata": {},
     "output_type": "execute_result"
    }
   ],
   "source": [
    "#Test: Just a C\n",
    "g = MPScount.AdjacencyGraphInfo()\n",
    "n = 5\n",
    "g.addC(n)\n",
    "MPScount.countMPS(g)"
   ]
  },
  {
   "cell_type": "code",
   "execution_count": 7,
   "id": "7f36c74b-a7a6-45a6-80ce-613d734462ed",
   "metadata": {},
   "outputs": [
    {
     "data": {
      "text/plain": [
       "40960"
      ]
     },
     "execution_count": 7,
     "metadata": {},
     "output_type": "execute_result"
    }
   ],
   "source": [
    "#Test: A C and a W\n",
    "g = MPScount.AdjacencyGraphInfo()\n",
    "nc = 5\n",
    "nw = 7\n",
    "g.addC(nc)\n",
    "g.addW(nw)\n",
    "MPScount.countMPS(g, True)"
   ]
  },
  {
   "cell_type": "code",
   "execution_count": 12,
   "id": "9d243fb6-7bc0-4964-a103-98e14a0f4284",
   "metadata": {},
   "outputs": [
    {
     "data": {
      "text/plain": [
       "10"
      ]
     },
     "execution_count": 12,
     "metadata": {},
     "output_type": "execute_result"
    }
   ],
   "source": [
    "#Test: A C and an N\n",
    "g = MPScount.AdjacencyGraphInfo()\n",
    "nc = 5\n",
    "nn = 7\n",
    "g.addC(nc)\n",
    "g.addN(nn)\n",
    "MPScount.countMPS(g, True)"
   ]
  },
  {
   "cell_type": "code",
   "execution_count": 9,
   "id": "53c94931-2941-4663-ac57-7121c27b9d24",
   "metadata": {},
   "outputs": [
    {
     "data": {
      "text/plain": [
       "180"
      ]
     },
     "execution_count": 9,
     "metadata": {},
     "output_type": "execute_result"
    }
   ],
   "source": [
    "#Test: An M and a W\n",
    "g = MPScount.AdjacencyGraphInfo()\n",
    "nm = 3\n",
    "nw = 2\n",
    "g.addM(nm)\n",
    "g.addW(nw)\n",
    "MPScount.countMPS(g)"
   ]
  },
  {
   "cell_type": "code",
   "execution_count": 99,
   "id": "fccb01e8-3212-49a7-aff3-dd1462d93ead",
   "metadata": {},
   "outputs": [
    {
     "data": {
      "text/plain": [
       "2522520"
      ]
     },
     "execution_count": 99,
     "metadata": {},
     "output_type": "execute_result"
    }
   ],
   "source": [
    "#Bigger example\n",
    "g = MPScount.AdjacencyGraphInfo()\n",
    "n_vals = [2, 3, 4, 5]\n",
    "for n in n_vals:\n",
    "    g.addN(n)\n",
    "MPScount.countMPS(g)"
   ]
  },
  {
   "cell_type": "code",
   "execution_count": 112,
   "id": "34788061-eb2b-490a-96c7-3b5e9ef310fe",
   "metadata": {},
   "outputs": [
    {
     "data": {
      "text/plain": [
       "19476"
      ]
     },
     "execution_count": 112,
     "metadata": {},
     "output_type": "execute_result"
    }
   ],
   "source": [
    "g = MPScount.AdjacencyGraphInfo()\n",
    "g.addW(4)\n",
    "g.addM(5)\n",
    "MPScount.countMPS(g)"
   ]
  },
  {
   "cell_type": "code",
   "execution_count": 32,
   "id": "45061f47-227b-48bc-bb8b-ffc9cdabac2c",
   "metadata": {},
   "outputs": [
    {
     "data": {
      "text/plain": [
       "35198235072000"
      ]
     },
     "execution_count": 32,
     "metadata": {},
     "output_type": "execute_result"
    }
   ],
   "source": [
    "g = MPScount.AdjacencyGraphInfo()\n",
    "g.addW(2)\n",
    "g.addM(3)\n",
    "g.addN(4)\n",
    "g.addN(3)\n",
    "g.addN(3)\n",
    "g.addN(5)\n",
    "MPScount.countMPS(g)"
   ]
  },
  {
   "cell_type": "code",
   "execution_count": 10,
   "id": "27290989-19b7-4235-acf1-5e4541be970a",
   "metadata": {},
   "outputs": [
    {
     "data": {
      "text/plain": [
       "672672000"
      ]
     },
     "execution_count": 10,
     "metadata": {},
     "output_type": "execute_result"
    }
   ],
   "source": [
    "math.factorial(15)//(6**5)*4"
   ]
  },
  {
   "cell_type": "code",
   "execution_count": 23,
   "id": "1307fee1-7955-4979-978b-29dd3e769944",
   "metadata": {},
   "outputs": [
    {
     "data": {
      "text/plain": [
       "True"
      ]
     },
     "execution_count": 23,
     "metadata": {},
     "output_type": "execute_result"
    }
   ],
   "source": [
    "h = MPScount.AdjacencyGraphInfo()\n",
    "h.addW(2)\n",
    "h.addM(2)\n",
    "h.addN(1)\n",
    "g == h"
   ]
  },
  {
   "cell_type": "code",
   "execution_count": 24,
   "id": "1274bdb6-40bf-4d0c-9556-44d7200e2227",
   "metadata": {},
   "outputs": [
    {
     "data": {
      "text/plain": [
       "N: {1: 1}\n",
       "W: {2: 1}\n",
       "M: {2: 1}\n",
       "C: {}"
      ]
     },
     "execution_count": 24,
     "metadata": {},
     "output_type": "execute_result"
    }
   ],
   "source": [
    "g"
   ]
  },
  {
   "cell_type": "code",
   "execution_count": 35,
   "id": "11292311-9c4b-4c4d-95dc-e5b01411fd7a",
   "metadata": {},
   "outputs": [],
   "source": [
    "def matchings(m, n = -1):\n",
    "    if n < m:\n",
    "        n = m\n",
    "    ret = 0\n",
    "    for k in range(m + 1):\n",
    "        ret += math.comb(m, k) * math.comb(n, k) * math.factorial(k)\n",
    "    return ret"
   ]
  },
  {
   "cell_type": "code",
   "execution_count": 36,
   "id": "5e9d9744-8d35-4785-81d4-a3e00a48ac40",
   "metadata": {},
   "outputs": [
    {
     "data": {
      "text/plain": [
       "[2, 7, 34, 209, 1546, 13327, 130922, 1441729, 17572114]"
      ]
     },
     "execution_count": 36,
     "metadata": {},
     "output_type": "execute_result"
    }
   ],
   "source": [
    "[matchings(n) for n in range(1, 10)]"
   ]
  },
  {
   "cell_type": "code",
   "execution_count": 38,
   "id": "6a9f2c84-eaff-496d-bf60-d101bfd7727d",
   "metadata": {},
   "outputs": [
    {
     "data": {
      "text/plain": [
       "[[1],\n",
       " [1, 2],\n",
       " [1, 3, 7],\n",
       " [1, 4, 13, 34],\n",
       " [1, 5, 21, 73, 209],\n",
       " [1, 6, 31, 136, 501, 1546],\n",
       " [1, 7, 43, 229, 1045, 4051, 13327],\n",
       " [1, 8, 57, 358, 1961, 9276, 37633, 130922],\n",
       " [1, 9, 73, 529, 3393, 19081, 93289, 394353, 1441729],\n",
       " [1, 10, 91, 748, 5509, 36046, 207775, 1047376, 4596553, 17572114]]"
      ]
     },
     "execution_count": 38,
     "metadata": {},
     "output_type": "execute_result"
    }
   ],
   "source": [
    "[[matchings(m, n) for m in range(0, n + 1)] for n in range(10)]"
   ]
  },
  {
   "cell_type": "code",
   "execution_count": 78,
   "id": "b5cd8049-5d08-4efc-a049-59a19dda36b4",
   "metadata": {},
   "outputs": [
    {
     "name": "stdout",
     "output_type": "stream",
     "text": [
      "1393619758084766564352000\n"
     ]
    },
    {
     "data": {
      "text/plain": [
       "0.9781379699707031"
      ]
     },
     "execution_count": 78,
     "metadata": {},
     "output_type": "execute_result"
    }
   ],
   "source": [
    "MPScount.free_lookup()\n",
    "g = MPScount.AdjacencyGraphInfo()\n",
    "g.addW(3)\n",
    "g.addW(4)\n",
    "g.addW(5)\n",
    "g.addW(6)\n",
    "g.addW(6)\n",
    "g.addM(3)\n",
    "t = time.time()\n",
    "print(MPScount.countMPS(g))\n",
    "time.time() - t"
   ]
  },
  {
   "cell_type": "code",
   "execution_count": 76,
   "id": "3cc9692b-69b7-4c4a-ac79-5fee9945be90",
   "metadata": {},
   "outputs": [
    {
     "name": "stdout",
     "output_type": "stream",
     "text": [
      "1393619758084766564352000\n"
     ]
    },
    {
     "data": {
      "text/plain": [
       "1.393714189529419"
      ]
     },
     "execution_count": 76,
     "metadata": {},
     "output_type": "execute_result"
    }
   ],
   "source": [
    "MPScount.free_lookup()\n",
    "g = MPScount.AdjacencyGraphInfo()\n",
    "g.addM(3)\n",
    "g.addM(4)\n",
    "g.addM(5)\n",
    "g.addM(6)\n",
    "g.addM(6)\n",
    "g.addW(3)\n",
    "t = time.time()\n",
    "print(MPScount.countMPS(g))\n",
    "time.time() - t"
   ]
  },
  {
   "cell_type": "code",
   "execution_count": 83,
   "id": "92492302-cf7f-4295-9579-d7b177af1830",
   "metadata": {},
   "outputs": [
    {
     "data": {
      "text/plain": [
       "590016281766912000"
      ]
     },
     "execution_count": 83,
     "metadata": {},
     "output_type": "execute_result"
    }
   ],
   "source": [
    "g = MPScount.AdjacencyGraphInfo()\n",
    "m1 = 2\n",
    "m2 = 3\n",
    "w1 = 4\n",
    "w2 = 2\n",
    "n1 = 3\n",
    "n2 = 2\n",
    "n3 = 2\n",
    "n4 = 3\n",
    "g.addM(m1)\n",
    "g.addM(m2)\n",
    "g.addW(w1)\n",
    "g.addW(w2)\n",
    "g.addN(n1)\n",
    "g.addN(n2)\n",
    "g.addN(n3)\n",
    "g.addN(n4)\n",
    "count1 = MPScount.countMPS(g)\n",
    "count1"
   ]
  },
  {
   "cell_type": "code",
   "execution_count": 96,
   "id": "7a1e4cce-681f-438c-90ef-c82cec76f9d6",
   "metadata": {},
   "outputs": [
    {
     "data": {
      "text/plain": [
       "590016281766912000"
      ]
     },
     "execution_count": 96,
     "metadata": {},
     "output_type": "execute_result"
    }
   ],
   "source": [
    "g1 = MPScount.AdjacencyGraphInfo()\n",
    "g1.addM(m1)\n",
    "g1.addW(w2)\n",
    "g2 = MPScount.AdjacencyGraphInfo()\n",
    "g2.addM(m2)\n",
    "g2.addW(w1)\n",
    "g2.addN(n1)\n",
    "g2.addN(n2)\n",
    "g2.addN(n3)\n",
    "g2.addN(n4)\n",
    "g3 = MPScount.AdjacencyGraphInfo()\n",
    "g3.addM(m2)\n",
    "g3.addW(w2)\n",
    "g4 = MPScount.AdjacencyGraphInfo()\n",
    "g4.addM(m1)\n",
    "g4.addW(w1)\n",
    "g4.addN(n1)\n",
    "g4.addN(n2)\n",
    "g4.addN(n3)\n",
    "g4.addN(n4)\n",
    "count2 = math.comb(21, 4)*MPScount.countMPS(g1)*MPScount.countMPS(g2) + math.comb(21, 5)*MPScount.countMPS(g3)*MPScount.countMPS(g4) -\\\n",
    "    2*4*8*2*math.factorial(21) // (2*6*24*2*6*2*2*6)\n",
    "count2"
   ]
  },
  {
   "cell_type": "code",
   "execution_count": 93,
   "id": "678094ce-8629-4235-8d61-9a5125598a1f",
   "metadata": {},
   "outputs": [
    {
     "data": {
      "text/plain": [
       "1.133630289532294"
      ]
     },
     "execution_count": 93,
     "metadata": {},
     "output_type": "execute_result"
    }
   ],
   "source": [
    "count2 / count1"
   ]
  },
  {
   "cell_type": "code",
   "execution_count": 97,
   "id": "d475b177-8da9-46d9-b727-2d8865300566",
   "metadata": {},
   "outputs": [
    {
     "data": {
      "text/plain": [
       "13076822753280"
      ]
     },
     "execution_count": 97,
     "metadata": {},
     "output_type": "execute_result"
    }
   ],
   "source": [
    "g = MPScount.AdjacencyGraphInfo()\n",
    "g.addW(5)\n",
    "g.addW(7)\n",
    "g.addW(8)\n",
    "MPScount.countMPS(g)"
   ]
  },
  {
   "cell_type": "code",
   "execution_count": 98,
   "id": "4c10aba6-e6f7-4d8e-a7ce-bc007302dccb",
   "metadata": {},
   "outputs": [],
   "source": [
    "def equalMW(num, size):\n",
    "    g = MPScount.AdjacencyGraphInfo()\n",
    "    for i in range(num):\n",
    "        g.addM(size)\n",
    "        g.addW(size)\n",
    "    return MPScount.countMPS(g)"
   ]
  },
  {
   "cell_type": "code",
   "execution_count": 99,
   "id": "561f6bfb-f344-46a6-afb4-1005b2890e49",
   "metadata": {},
   "outputs": [
    {
     "data": {
      "text/plain": [
       "[64, 533120, 44919705600, 17937030279168000, 23231390810324336640000]"
      ]
     },
     "execution_count": 99,
     "metadata": {},
     "output_type": "execute_result"
    }
   ],
   "source": [
    "[equalMW(n, 2) for n in range(1, 6)]"
   ]
  },
  {
   "cell_type": "code",
   "execution_count": 100,
   "id": "814161ce-f732-453b-a925-a48fbab7b66c",
   "metadata": {},
   "outputs": [
    {
     "data": {
      "text/plain": [
       "[408, 533120, 535653888, 658476149760, 1158997575617024]"
      ]
     },
     "execution_count": 100,
     "metadata": {},
     "output_type": "execute_result"
    }
   ],
   "source": [
    "[equalMW(2, n) for n in range(1, 6)]"
   ]
  },
  {
   "cell_type": "code",
   "execution_count": 103,
   "id": "8e8be11d-8c0a-41e3-8ba6-31af23b188f0",
   "metadata": {},
   "outputs": [
    {
     "data": {
      "text/plain": [
       "[[6, 408, 100080, 59391360],\n",
       " [64, 533120, 44919705600, 17937030279168000],\n",
       " [584, 535653888, 13515261591896064, 3104275029230108471721984],\n",
       " [5968,\n",
       "  658476149760,\n",
       "  5272428617654872227840,\n",
       "  724579436164317101857436073984000]]"
      ]
     },
     "execution_count": 103,
     "metadata": {},
     "output_type": "execute_result"
    }
   ],
   "source": [
    "[[equalMW(num, size) for num in range(1, 5)] for size in range(1, 5)]"
   ]
  },
  {
   "cell_type": "code",
   "execution_count": 14,
   "id": "ec5904ef-68ab-4a76-b386-764bb80dbf12",
   "metadata": {},
   "outputs": [
    {
     "data": {
      "text/plain": [
       "704"
      ]
     },
     "execution_count": 14,
     "metadata": {},
     "output_type": "execute_result"
    }
   ],
   "source": [
    "g = MPScount.AdjacencyGraphInfo()\n",
    "g.addC(2)\n",
    "g.addW(3)\n",
    "MPScount.countMPS(g)"
   ]
  },
  {
   "cell_type": "code",
   "execution_count": 15,
   "id": "ab37e6f1-9411-4827-b83c-f16045cd73f3",
   "metadata": {},
   "outputs": [],
   "source": [
    "def twoCrowns(c1, c2):\n",
    "    return c1*c2*2**(c1+c2-2)*(8*(c1+c2)+math.comb(c1+c2+2,c1+1))"
   ]
  },
  {
   "cell_type": "code",
   "execution_count": 18,
   "id": "c939cb8f-1cb8-459f-975e-7bc5a5ee19fe",
   "metadata": {},
   "outputs": [
    {
     "data": {
      "text/plain": [
       "297227417031717853069312"
      ]
     },
     "execution_count": 18,
     "metadata": {},
     "output_type": "execute_result"
    }
   ],
   "source": [
    "c1 = 37\n",
    "c2 = 7\n",
    "twoCrowns(c1, c2)"
   ]
  },
  {
   "cell_type": "code",
   "execution_count": 19,
   "id": "4337a9a7-fa81-4781-8410-6afd6e41fe5c",
   "metadata": {},
   "outputs": [
    {
     "data": {
      "text/plain": [
       "297227417031717853069312"
      ]
     },
     "execution_count": 19,
     "metadata": {},
     "output_type": "execute_result"
    }
   ],
   "source": [
    "g = MPScount.AdjacencyGraphInfo()\n",
    "g.addC(c1)\n",
    "g.addC(c2)\n",
    "MPScount.countMPS(g)"
   ]
  },
  {
   "cell_type": "code",
   "execution_count": 20,
   "id": "3439bc95-dbe9-43f0-b4df-2764dfa97e35",
   "metadata": {
    "tags": []
   },
   "outputs": [],
   "source": [
    "import MPSrec"
   ]
  },
  {
   "cell_type": "code",
   "execution_count": 175,
   "id": "fd32ce76-3718-4524-87f8-bddfbe614cf2",
   "metadata": {},
   "outputs": [
    {
     "data": {
      "text/plain": [
       "<module 'MPSrec' from '/home/nfox/Documents/Work and School/Research/Cut and Join/single-cut-and-join/MPSrec.py'>"
      ]
     },
     "execution_count": 175,
     "metadata": {},
     "output_type": "execute_result"
    }
   ],
   "source": [
    "importlib.reload(MPSrec)"
   ]
  },
  {
   "cell_type": "code",
   "execution_count": 179,
   "id": "9e52dbcc-7fe5-4dd7-ad25-b6199ddfbac2",
   "metadata": {},
   "outputs": [
    {
     "data": {
      "text/plain": [
       "70466057774778721981685760"
      ]
     },
     "execution_count": 179,
     "metadata": {},
     "output_type": "execute_result"
    }
   ],
   "source": [
    "g = MPScount.AdjacencyGraphInfo()\n",
    "g.addM(4)\n",
    "g.addM(2)\n",
    "g.addM(3)\n",
    "g.addW(4)\n",
    "g.addW(6)\n",
    "g.addW(3)\n",
    "#g.addN(1)\n",
    "g.addN(1)\n",
    "g.addN(5)\n",
    "MPScount.countMPS(g)"
   ]
  },
  {
   "cell_type": "code",
   "execution_count": 180,
   "id": "dbf5d6e8-4ed5-4e46-acec-4613e5316d7d",
   "metadata": {
    "tags": []
   },
   "outputs": [
    {
     "data": {
      "text/plain": [
       "85276231339505253012725760"
      ]
     },
     "execution_count": 180,
     "metadata": {},
     "output_type": "execute_result"
    }
   ],
   "source": [
    "MPSrec.S(g)"
   ]
  },
  {
   "cell_type": "code",
   "execution_count": 181,
   "id": "c7faac64-c635-48c8-9223-33611ab5e167",
   "metadata": {},
   "outputs": [
    {
     "data": {
      "text/plain": [
       "70466057774778721981685760"
      ]
     },
     "execution_count": 181,
     "metadata": {},
     "output_type": "execute_result"
    }
   ],
   "source": [
    "MPSrec.S2(g)"
   ]
  },
  {
   "cell_type": "code",
   "execution_count": 47,
   "id": "99610bf5-2c88-45c7-ae87-5590190ad9eb",
   "metadata": {},
   "outputs": [],
   "source": [
    "g = MPScount.AdjacencyGraphInfo()\n",
    "g.addM(1)\n",
    "g.addN(1)\n",
    "g.addN(1)"
   ]
  },
  {
   "cell_type": "code",
   "execution_count": 54,
   "id": "e17c45fe-e68c-40cc-ba06-511e78096cce",
   "metadata": {},
   "outputs": [
    {
     "data": {
      "text/plain": [
       "6"
      ]
     },
     "execution_count": 54,
     "metadata": {},
     "output_type": "execute_result"
    }
   ],
   "source": [
    "MPScount.countMPS(g)"
   ]
  },
  {
   "cell_type": "code",
   "execution_count": 61,
   "id": "e10404b3-7400-4b21-81e2-3269a494e715",
   "metadata": {},
   "outputs": [
    {
     "data": {
      "text/plain": [
       "6"
      ]
     },
     "execution_count": 61,
     "metadata": {},
     "output_type": "execute_result"
    }
   ],
   "source": [
    "MPSrec.S(g)"
   ]
  },
  {
   "cell_type": "code",
   "execution_count": 91,
   "id": "a24b12a5-b287-46ca-9770-9dfee0a24dd2",
   "metadata": {},
   "outputs": [
    {
     "data": {
      "text/plain": [
       "120"
      ]
     },
     "execution_count": 91,
     "metadata": {},
     "output_type": "execute_result"
    }
   ],
   "source": [
    "g = MPScount.AdjacencyGraphInfo()\n",
    "g.addM(1)\n",
    "g.addW(1)\n",
    "g.addW(1)\n",
    "g.addN(1)\n",
    "MPScount.countMPS(g)"
   ]
  },
  {
   "cell_type": "code",
   "execution_count": 86,
   "id": "538af80b-aa57-4a43-ad40-9fbf357aedf1",
   "metadata": {},
   "outputs": [
    {
     "data": {
      "text/plain": [
       "1560"
      ]
     },
     "execution_count": 86,
     "metadata": {},
     "output_type": "execute_result"
    }
   ],
   "source": [
    "120+ 6*120+6*120"
   ]
  },
  {
   "cell_type": "code",
   "execution_count": 89,
   "id": "fb30aabe-72b3-4003-94df-66aa18d15647",
   "metadata": {},
   "outputs": [
    {
     "data": {
      "text/plain": [
       "348"
      ]
     },
     "execution_count": 89,
     "metadata": {},
     "output_type": "execute_result"
    }
   ],
   "source": [
    "2*174"
   ]
  },
  {
   "cell_type": "code",
   "execution_count": 92,
   "id": "37fab0a1-8897-4d36-b89c-8688c46786d8",
   "metadata": {},
   "outputs": [
    {
     "data": {
      "text/plain": [
       "3216"
      ]
     },
     "execution_count": 92,
     "metadata": {},
     "output_type": "execute_result"
    }
   ],
   "source": [
    "2*(168+1440)"
   ]
  },
  {
   "cell_type": "code",
   "execution_count": 93,
   "id": "3ef3af5f-1296-4532-a983-663329a2b188",
   "metadata": {},
   "outputs": [
    {
     "data": {
      "text/plain": [
       "4440"
      ]
     },
     "execution_count": 93,
     "metadata": {},
     "output_type": "execute_result"
    }
   ],
   "source": [
    "12+6*28+3*348+3216"
   ]
  },
  {
   "cell_type": "code",
   "execution_count": 94,
   "id": "542e565a-2053-4650-8b85-40a2496cd762",
   "metadata": {},
   "outputs": [
    {
     "data": {
      "text/plain": [
       "1.162162162162162"
      ]
     },
     "execution_count": 94,
     "metadata": {},
     "output_type": "execute_result"
    }
   ],
   "source": [
    "5160/4440"
   ]
  },
  {
   "cell_type": "code",
   "execution_count": 100,
   "id": "1c72199e-1a0a-4585-811c-5d5213a9909d",
   "metadata": {},
   "outputs": [
    {
     "data": {
      "text/plain": [
       "120"
      ]
     },
     "execution_count": 100,
     "metadata": {},
     "output_type": "execute_result"
    }
   ],
   "source": [
    "MPSrec.Sstar(g)"
   ]
  },
  {
   "cell_type": "code",
   "execution_count": 107,
   "id": "f3d7a2a2-4be3-4237-9c2e-3a6e0c28e962",
   "metadata": {},
   "outputs": [
    {
     "data": {
      "text/plain": [
       "2212799872365184969360"
      ]
     },
     "execution_count": 107,
     "metadata": {},
     "output_type": "execute_result"
    }
   ],
   "source": [
    "g = MPScount.AdjacencyGraphInfo()\n",
    "g.addM(7)\n",
    "g.addW(40)\n",
    "MPScount.countMPS(g)"
   ]
  },
  {
   "cell_type": "code",
   "execution_count": 105,
   "id": "22b57c4d-c042-4384-8152-046ea00a18ec",
   "metadata": {},
   "outputs": [
    {
     "name": "stdout",
     "output_type": "stream",
     "text": [
      "2 1 1 0\n",
      "0 0 0 0\n"
     ]
    },
    {
     "data": {
      "text/plain": [
       "6"
      ]
     },
     "execution_count": 105,
     "metadata": {},
     "output_type": "execute_result"
    }
   ],
   "source": [
    "MPSrec.S(g)"
   ]
  },
  {
   "cell_type": "code",
   "execution_count": 108,
   "id": "4e69c291-b91b-468c-a469-6f19e2c44bbd",
   "metadata": {},
   "outputs": [
    {
     "data": {
      "text/plain": [
       "2212799872365184969360"
      ]
     },
     "execution_count": 108,
     "metadata": {},
     "output_type": "execute_result"
    }
   ],
   "source": [
    "MPSrec.SMW(7,40)"
   ]
  },
  {
   "cell_type": "code",
   "execution_count": 174,
   "id": "0b1ff710-6797-4f5d-a3cd-13d1916b6bdb",
   "metadata": {},
   "outputs": [
    {
     "data": {
      "text/plain": [
       "5.026154388534852"
      ]
     },
     "execution_count": 174,
     "metadata": {},
     "output_type": "execute_result"
    }
   ],
   "source": [
    "17885387520 / 3558463616"
   ]
  },
  {
   "cell_type": "code",
   "execution_count": 182,
   "id": "d4e9251b-1d34-44d7-a532-3f50e4f968e8",
   "metadata": {},
   "outputs": [
    {
     "data": {
      "text/plain": [
       "25.84797997556211"
      ]
     },
     "execution_count": 182,
     "metadata": {},
     "output_type": "execute_result"
    }
   ],
   "source": [
    "math.log10(_)"
   ]
  },
  {
   "cell_type": "code",
   "execution_count": 198,
   "id": "e02bddda-f874-435f-8c72-1240bb4e287e",
   "metadata": {},
   "outputs": [
    {
     "data": {
      "text/plain": [
       "388.75375680080805"
      ]
     },
     "execution_count": 198,
     "metadata": {},
     "output_type": "execute_result"
    }
   ],
   "source": [
    "m = 5\n",
    "w = 15\n",
    "T = MPSrec.Sbar(m, w)\n",
    "g = MPScount.AdjacencyGraphInfo()\n",
    "g.addM(m)\n",
    "g.addW(w)\n",
    "I = MPSrec.Sstar(g)\n",
    "I / T"
   ]
  },
  {
   "cell_type": "code",
   "execution_count": 199,
   "id": "ac47595b-3f71-476e-9b06-b3cf21674ba4",
   "metadata": {},
   "outputs": [],
   "source": [
    "import matplotlib.pyplot as plt"
   ]
  },
  {
   "cell_type": "code",
   "execution_count": 275,
   "id": "08ef1f2d-2b5a-42b0-a79f-058b4c87974b",
   "metadata": {},
   "outputs": [],
   "source": [
    "def plotMW(M, W):\n",
    "    ret = []\n",
    "    for i in range(len(M)):\n",
    "        m = M[i]\n",
    "        w = W[i]\n",
    "        T = MPSrec.Sbar(m, w)\n",
    "        g = MPScount.AdjacencyGraphInfo()\n",
    "        g.addM(m)\n",
    "        g.addW(w)\n",
    "        I = MPSrec.Sstar(g)\n",
    "        ret.append((I / T)**(1/14))\n",
    "    return ret"
   ]
  },
  {
   "cell_type": "code",
   "execution_count": 271,
   "id": "e954d075-dd0a-439d-a6d7-19074c6c7ca9",
   "metadata": {},
   "outputs": [],
   "source": [
    "W = [i for i in range(1, 50)]\n",
    "MW = plotMW(W, W)"
   ]
  },
  {
   "cell_type": "code",
   "execution_count": 272,
   "id": "4f7d11ac-3df5-4e7d-9a6f-7553e50e4653",
   "metadata": {},
   "outputs": [
    {
     "data": {
      "image/png": "[encoded data removed]",
      "text/plain": [
       "<Figure size 432x288 with 1 Axes>"
      ]
     },
     "metadata": {
      "needs_background": "light"
     },
     "output_type": "display_data"
    }
   ],
   "source": [
    "plt.scatter(W, MW)\n",
    "plt.show()"
   ]
  },
  {
   "cell_type": "code",
   "execution_count": 276,
   "id": "ab194eef-38c0-4085-bcd2-6d09e44bf748",
   "metadata": {},
   "outputs": [],
   "source": [
    "W = [i for i in range(1, 100)]\n",
    "MW = plotMW([15]*len(W), W)"
   ]
  },
  {
   "cell_type": "code",
   "execution_count": 277,
   "id": "9c993e76-841a-4a4d-ad73-a3862188fa5b",
   "metadata": {},
   "outputs": [
    {
     "data": {
      "image/png": "[encoded data removed]",
      "text/plain": [
       "<Figure size 432x288 with 1 Axes>"
      ]
     },
     "metadata": {
      "needs_background": "light"
     },
     "output_type": "display_data"
    }
   ],
   "source": [
    "plt.scatter(W, MW)\n",
    "plt.show()"
   ]
  },
  {
   "cell_type": "code",
   "execution_count": 278,
   "id": "e93b3fdf-9673-41c5-a9cf-575ab2d2e383",
   "metadata": {},
   "outputs": [],
   "source": [
    "def almost_cat(m):\n",
    "    return math.comb(2*m, m) / (4 * m)"
   ]
  },
  {
   "cell_type": "code",
   "execution_count": 279,
   "id": "a064da0f-d16b-4ca3-a468-ef9adfe7ea5d",
   "metadata": {},
   "outputs": [
    {
     "data": {
      "text/plain": [
       "2585292.0"
      ]
     },
     "execution_count": 279,
     "metadata": {},
     "output_type": "execute_result"
    }
   ],
   "source": [
    "almost_cat(15)"
   ]
  },
  {
   "cell_type": "code",
   "execution_count": 280,
   "id": "840d78c1-c0c4-4513-b598-015cf8596023",
   "metadata": {},
   "outputs": [
    {
     "data": {
      "text/plain": [
       "1510920.2617246495"
      ]
     },
     "execution_count": 280,
     "metadata": {},
     "output_type": "execute_result"
    }
   ],
   "source": [
    "m = 15\n",
    "T = MPSrec.Sbar(m, m)\n",
    "g = MPScount.AdjacencyGraphInfo()\n",
    "g.addM(m)\n",
    "g.addW(m)\n",
    "I = MPSrec.Sstar(g)\n",
    "I / T"
   ]
  },
  {
   "cell_type": "code",
   "execution_count": 320,
   "id": "025882f3-d991-4866-aa1e-f369978b7876",
   "metadata": {},
   "outputs": [
    {
     "data": {
      "text/plain": [
       "1.2562392082518277"
      ]
     },
     "execution_count": 320,
     "metadata": {},
     "output_type": "execute_result"
    }
   ],
   "source": [
    "m = 100\n",
    "w = 80\n",
    "T = MPSrec.Sbar(m, w)\n",
    "Tstar = w * 2**(m+w+1)\n",
    "\n",
    "(Tstar / T) / (w / m)"
   ]
  },
  {
   "cell_type": "code",
   "execution_count": null,
   "id": "a8ac1426-6de7-4ea2-ae9b-44d8e0d1170b",
   "metadata": {},
   "outputs": [],
   "source": []
  }
 ],
 "metadata": {
  "kernelspec": {
   "display_name": "Python 3 (ipykernel)",
   "language": "python",
   "name": "python3"
  },
  "language_info": {
   "codemirror_mode": {
    "name": "ipython",
    "version": 3
   },
   "file_extension": ".py",
   "mimetype": "text/x-python",
   "name": "python",
   "nbconvert_exporter": "python",
   "pygments_lexer": "ipython3",
   "version": "3.9.5"
  }
 },
 "nbformat": 4,
 "nbformat_minor": 5
}
